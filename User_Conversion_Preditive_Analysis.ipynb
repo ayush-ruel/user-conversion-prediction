{
 "cells": [
  {
   "cell_type": "code",
   "execution_count": 61,
   "metadata": {},
   "outputs": [],
   "source": [
    "import pandas as pd\n",
    "import numpy as np\n",
    "import matplotlib.pyplot as plt"
   ]
  },
  {
   "cell_type": "code",
   "execution_count": 62,
   "metadata": {},
   "outputs": [],
   "source": [
    "cols = ['Visitor Id','Visit Number','Date','Visit Start Time','Total Bounces','Total Page Views','Time On Site',\n",
    "        'Total Revenue','Total Transactions','Traffic Source','Source Medium','Source Campaign','Device Category',\n",
    "        'OS','Mobile Device Model','City','Channel Grouping']\n",
    "df = pd.read_csv('Downloads/sample_user_data.csv',header=0)"
   ]
  },
  {
   "cell_type": "code",
   "execution_count": 63,
   "metadata": {},
   "outputs": [
    {
     "data": {
      "text/html": [
       "<div>\n",
       "<style scoped>\n",
       "    .dataframe tbody tr th:only-of-type {\n",
       "        vertical-align: middle;\n",
       "    }\n",
       "\n",
       "    .dataframe tbody tr th {\n",
       "        vertical-align: top;\n",
       "    }\n",
       "\n",
       "    .dataframe thead th {\n",
       "        text-align: right;\n",
       "    }\n",
       "</style>\n",
       "<table border=\"1\" class=\"dataframe\">\n",
       "  <thead>\n",
       "    <tr style=\"text-align: right;\">\n",
       "      <th></th>\n",
       "      <th>fullVisitorId</th>\n",
       "      <th>visitNumber</th>\n",
       "      <th>date</th>\n",
       "      <th>visitStartTime</th>\n",
       "      <th>totals_bounces</th>\n",
       "      <th>totals_pageviews</th>\n",
       "      <th>totals_timeOnSite</th>\n",
       "      <th>totals_totalTransactionRevenue</th>\n",
       "      <th>totals_transactions</th>\n",
       "      <th>trafficSource_source</th>\n",
       "      <th>trafficSource_medium</th>\n",
       "      <th>trafficSource_campaign</th>\n",
       "      <th>device_deviceCategory</th>\n",
       "      <th>device_operatingSystem</th>\n",
       "      <th>device_mobileDeviceModel</th>\n",
       "      <th>geoNetwork_city</th>\n",
       "      <th>channelGrouping</th>\n",
       "    </tr>\n",
       "  </thead>\n",
       "  <tbody>\n",
       "    <tr>\n",
       "      <th>0</th>\n",
       "      <td>2.737660e+13</td>\n",
       "      <td>1</td>\n",
       "      <td>20170211</td>\n",
       "      <td>1486866293</td>\n",
       "      <td>0</td>\n",
       "      <td>5</td>\n",
       "      <td>49</td>\n",
       "      <td>0</td>\n",
       "      <td>0</td>\n",
       "      <td>(direct)</td>\n",
       "      <td>(none)</td>\n",
       "      <td>(not set)</td>\n",
       "      <td>desktop</td>\n",
       "      <td>Macintosh</td>\n",
       "      <td>not available in demo dataset</td>\n",
       "      <td>not available in demo dataset</td>\n",
       "      <td>Organic Search</td>\n",
       "    </tr>\n",
       "    <tr>\n",
       "      <th>1</th>\n",
       "      <td>3.946050e+13</td>\n",
       "      <td>1</td>\n",
       "      <td>20170327</td>\n",
       "      <td>1490629516</td>\n",
       "      <td>0</td>\n",
       "      <td>2</td>\n",
       "      <td>99</td>\n",
       "      <td>0</td>\n",
       "      <td>0</td>\n",
       "      <td>youtube.com</td>\n",
       "      <td>referral</td>\n",
       "      <td>(not set)</td>\n",
       "      <td>desktop</td>\n",
       "      <td>Windows</td>\n",
       "      <td>not available in demo dataset</td>\n",
       "      <td>not available in demo dataset</td>\n",
       "      <td>Social</td>\n",
       "    </tr>\n",
       "    <tr>\n",
       "      <th>2</th>\n",
       "      <td>4.086270e+13</td>\n",
       "      <td>1</td>\n",
       "      <td>20170211</td>\n",
       "      <td>1486836571</td>\n",
       "      <td>0</td>\n",
       "      <td>2</td>\n",
       "      <td>14</td>\n",
       "      <td>0</td>\n",
       "      <td>0</td>\n",
       "      <td>(direct)</td>\n",
       "      <td>(none)</td>\n",
       "      <td>(not set)</td>\n",
       "      <td>desktop</td>\n",
       "      <td>Macintosh</td>\n",
       "      <td>not available in demo dataset</td>\n",
       "      <td>Oakland</td>\n",
       "      <td>Paid Search</td>\n",
       "    </tr>\n",
       "    <tr>\n",
       "      <th>3</th>\n",
       "      <td>4.086270e+13</td>\n",
       "      <td>2</td>\n",
       "      <td>20170211</td>\n",
       "      <td>1486838824</td>\n",
       "      <td>0</td>\n",
       "      <td>3</td>\n",
       "      <td>35</td>\n",
       "      <td>0</td>\n",
       "      <td>0</td>\n",
       "      <td>(direct)</td>\n",
       "      <td>(none)</td>\n",
       "      <td>(not set)</td>\n",
       "      <td>desktop</td>\n",
       "      <td>Macintosh</td>\n",
       "      <td>not available in demo dataset</td>\n",
       "      <td>Oakland</td>\n",
       "      <td>Paid Search</td>\n",
       "    </tr>\n",
       "    <tr>\n",
       "      <th>4</th>\n",
       "      <td>6.226770e+13</td>\n",
       "      <td>1</td>\n",
       "      <td>20170709</td>\n",
       "      <td>1499645960</td>\n",
       "      <td>1</td>\n",
       "      <td>1</td>\n",
       "      <td>0</td>\n",
       "      <td>0</td>\n",
       "      <td>0</td>\n",
       "      <td>Partners</td>\n",
       "      <td>affiliate</td>\n",
       "      <td>Data Share Promo</td>\n",
       "      <td>desktop</td>\n",
       "      <td>Windows</td>\n",
       "      <td>not available in demo dataset</td>\n",
       "      <td>not available in demo dataset</td>\n",
       "      <td>Affiliates</td>\n",
       "    </tr>\n",
       "  </tbody>\n",
       "</table>\n",
       "</div>"
      ],
      "text/plain": [
       "   fullVisitorId  visitNumber      date  visitStartTime  totals_bounces  \\\n",
       "0   2.737660e+13            1  20170211      1486866293               0   \n",
       "1   3.946050e+13            1  20170327      1490629516               0   \n",
       "2   4.086270e+13            1  20170211      1486836571               0   \n",
       "3   4.086270e+13            2  20170211      1486838824               0   \n",
       "4   6.226770e+13            1  20170709      1499645960               1   \n",
       "\n",
       "   totals_pageviews  totals_timeOnSite  totals_totalTransactionRevenue  \\\n",
       "0                 5                 49                               0   \n",
       "1                 2                 99                               0   \n",
       "2                 2                 14                               0   \n",
       "3                 3                 35                               0   \n",
       "4                 1                  0                               0   \n",
       "\n",
       "   totals_transactions trafficSource_source trafficSource_medium  \\\n",
       "0                    0             (direct)               (none)   \n",
       "1                    0          youtube.com             referral   \n",
       "2                    0             (direct)               (none)   \n",
       "3                    0             (direct)               (none)   \n",
       "4                    0             Partners            affiliate   \n",
       "\n",
       "  trafficSource_campaign device_deviceCategory device_operatingSystem  \\\n",
       "0              (not set)               desktop              Macintosh   \n",
       "1              (not set)               desktop                Windows   \n",
       "2              (not set)               desktop              Macintosh   \n",
       "3              (not set)               desktop              Macintosh   \n",
       "4       Data Share Promo               desktop                Windows   \n",
       "\n",
       "        device_mobileDeviceModel                geoNetwork_city  \\\n",
       "0  not available in demo dataset  not available in demo dataset   \n",
       "1  not available in demo dataset  not available in demo dataset   \n",
       "2  not available in demo dataset                        Oakland   \n",
       "3  not available in demo dataset                        Oakland   \n",
       "4  not available in demo dataset  not available in demo dataset   \n",
       "\n",
       "  channelGrouping  \n",
       "0  Organic Search  \n",
       "1          Social  \n",
       "2     Paid Search  \n",
       "3     Paid Search  \n",
       "4      Affiliates  "
      ]
     },
     "execution_count": 63,
     "metadata": {},
     "output_type": "execute_result"
    }
   ],
   "source": [
    "df.head()"
   ]
  },
  {
   "cell_type": "code",
   "execution_count": 64,
   "metadata": {},
   "outputs": [],
   "source": [
    "df.columns = cols"
   ]
  },
  {
   "cell_type": "code",
   "execution_count": 65,
   "metadata": {},
   "outputs": [
    {
     "data": {
      "text/html": [
       "<div>\n",
       "<style scoped>\n",
       "    .dataframe tbody tr th:only-of-type {\n",
       "        vertical-align: middle;\n",
       "    }\n",
       "\n",
       "    .dataframe tbody tr th {\n",
       "        vertical-align: top;\n",
       "    }\n",
       "\n",
       "    .dataframe thead th {\n",
       "        text-align: right;\n",
       "    }\n",
       "</style>\n",
       "<table border=\"1\" class=\"dataframe\">\n",
       "  <thead>\n",
       "    <tr style=\"text-align: right;\">\n",
       "      <th></th>\n",
       "      <th>Visitor Id</th>\n",
       "      <th>Visit Number</th>\n",
       "      <th>Date</th>\n",
       "      <th>Visit Start Time</th>\n",
       "      <th>Total Bounces</th>\n",
       "      <th>Total Page Views</th>\n",
       "      <th>Time On Site</th>\n",
       "      <th>Total Revenue</th>\n",
       "      <th>Total Transactions</th>\n",
       "      <th>Traffic Source</th>\n",
       "      <th>Source Medium</th>\n",
       "      <th>Source Campaign</th>\n",
       "      <th>Device Category</th>\n",
       "      <th>OS</th>\n",
       "      <th>Mobile Device Model</th>\n",
       "      <th>City</th>\n",
       "      <th>Channel Grouping</th>\n",
       "    </tr>\n",
       "  </thead>\n",
       "  <tbody>\n",
       "    <tr>\n",
       "      <th>0</th>\n",
       "      <td>2.737660e+13</td>\n",
       "      <td>1</td>\n",
       "      <td>20170211</td>\n",
       "      <td>1486866293</td>\n",
       "      <td>0</td>\n",
       "      <td>5</td>\n",
       "      <td>49</td>\n",
       "      <td>0</td>\n",
       "      <td>0</td>\n",
       "      <td>(direct)</td>\n",
       "      <td>(none)</td>\n",
       "      <td>(not set)</td>\n",
       "      <td>desktop</td>\n",
       "      <td>Macintosh</td>\n",
       "      <td>not available in demo dataset</td>\n",
       "      <td>not available in demo dataset</td>\n",
       "      <td>Organic Search</td>\n",
       "    </tr>\n",
       "    <tr>\n",
       "      <th>1</th>\n",
       "      <td>3.946050e+13</td>\n",
       "      <td>1</td>\n",
       "      <td>20170327</td>\n",
       "      <td>1490629516</td>\n",
       "      <td>0</td>\n",
       "      <td>2</td>\n",
       "      <td>99</td>\n",
       "      <td>0</td>\n",
       "      <td>0</td>\n",
       "      <td>youtube.com</td>\n",
       "      <td>referral</td>\n",
       "      <td>(not set)</td>\n",
       "      <td>desktop</td>\n",
       "      <td>Windows</td>\n",
       "      <td>not available in demo dataset</td>\n",
       "      <td>not available in demo dataset</td>\n",
       "      <td>Social</td>\n",
       "    </tr>\n",
       "    <tr>\n",
       "      <th>2</th>\n",
       "      <td>4.086270e+13</td>\n",
       "      <td>1</td>\n",
       "      <td>20170211</td>\n",
       "      <td>1486836571</td>\n",
       "      <td>0</td>\n",
       "      <td>2</td>\n",
       "      <td>14</td>\n",
       "      <td>0</td>\n",
       "      <td>0</td>\n",
       "      <td>(direct)</td>\n",
       "      <td>(none)</td>\n",
       "      <td>(not set)</td>\n",
       "      <td>desktop</td>\n",
       "      <td>Macintosh</td>\n",
       "      <td>not available in demo dataset</td>\n",
       "      <td>Oakland</td>\n",
       "      <td>Paid Search</td>\n",
       "    </tr>\n",
       "    <tr>\n",
       "      <th>3</th>\n",
       "      <td>4.086270e+13</td>\n",
       "      <td>2</td>\n",
       "      <td>20170211</td>\n",
       "      <td>1486838824</td>\n",
       "      <td>0</td>\n",
       "      <td>3</td>\n",
       "      <td>35</td>\n",
       "      <td>0</td>\n",
       "      <td>0</td>\n",
       "      <td>(direct)</td>\n",
       "      <td>(none)</td>\n",
       "      <td>(not set)</td>\n",
       "      <td>desktop</td>\n",
       "      <td>Macintosh</td>\n",
       "      <td>not available in demo dataset</td>\n",
       "      <td>Oakland</td>\n",
       "      <td>Paid Search</td>\n",
       "    </tr>\n",
       "    <tr>\n",
       "      <th>4</th>\n",
       "      <td>6.226770e+13</td>\n",
       "      <td>1</td>\n",
       "      <td>20170709</td>\n",
       "      <td>1499645960</td>\n",
       "      <td>1</td>\n",
       "      <td>1</td>\n",
       "      <td>0</td>\n",
       "      <td>0</td>\n",
       "      <td>0</td>\n",
       "      <td>Partners</td>\n",
       "      <td>affiliate</td>\n",
       "      <td>Data Share Promo</td>\n",
       "      <td>desktop</td>\n",
       "      <td>Windows</td>\n",
       "      <td>not available in demo dataset</td>\n",
       "      <td>not available in demo dataset</td>\n",
       "      <td>Affiliates</td>\n",
       "    </tr>\n",
       "    <tr>\n",
       "      <th>5</th>\n",
       "      <td>6.840400e+13</td>\n",
       "      <td>1</td>\n",
       "      <td>20170403</td>\n",
       "      <td>1491281649</td>\n",
       "      <td>0</td>\n",
       "      <td>2</td>\n",
       "      <td>18</td>\n",
       "      <td>0</td>\n",
       "      <td>0</td>\n",
       "      <td>google</td>\n",
       "      <td>organic</td>\n",
       "      <td>(not set)</td>\n",
       "      <td>tablet</td>\n",
       "      <td>iOS</td>\n",
       "      <td>not available in demo dataset</td>\n",
       "      <td>Los Angeles</td>\n",
       "      <td>Organic Search</td>\n",
       "    </tr>\n",
       "    <tr>\n",
       "      <th>6</th>\n",
       "      <td>8.505980e+13</td>\n",
       "      <td>1</td>\n",
       "      <td>20170719</td>\n",
       "      <td>1500505105</td>\n",
       "      <td>1</td>\n",
       "      <td>1</td>\n",
       "      <td>0</td>\n",
       "      <td>0</td>\n",
       "      <td>0</td>\n",
       "      <td>(direct)</td>\n",
       "      <td>(none)</td>\n",
       "      <td>(not set)</td>\n",
       "      <td>mobile</td>\n",
       "      <td>iOS</td>\n",
       "      <td>not available in demo dataset</td>\n",
       "      <td>Chicago</td>\n",
       "      <td>Direct</td>\n",
       "    </tr>\n",
       "    <tr>\n",
       "      <th>7</th>\n",
       "      <td>1.766520e+14</td>\n",
       "      <td>1</td>\n",
       "      <td>20170116</td>\n",
       "      <td>1484597865</td>\n",
       "      <td>1</td>\n",
       "      <td>1</td>\n",
       "      <td>0</td>\n",
       "      <td>0</td>\n",
       "      <td>0</td>\n",
       "      <td>youtube.com</td>\n",
       "      <td>referral</td>\n",
       "      <td>(not set)</td>\n",
       "      <td>desktop</td>\n",
       "      <td>Linux</td>\n",
       "      <td>not available in demo dataset</td>\n",
       "      <td>not available in demo dataset</td>\n",
       "      <td>Social</td>\n",
       "    </tr>\n",
       "    <tr>\n",
       "      <th>8</th>\n",
       "      <td>1.976710e+14</td>\n",
       "      <td>1</td>\n",
       "      <td>20170502</td>\n",
       "      <td>1493772870</td>\n",
       "      <td>1</td>\n",
       "      <td>1</td>\n",
       "      <td>0</td>\n",
       "      <td>0</td>\n",
       "      <td>0</td>\n",
       "      <td>m.facebook.com</td>\n",
       "      <td>referral</td>\n",
       "      <td>(not set)</td>\n",
       "      <td>mobile</td>\n",
       "      <td>Android</td>\n",
       "      <td>not available in demo dataset</td>\n",
       "      <td>not available in demo dataset</td>\n",
       "      <td>Social</td>\n",
       "    </tr>\n",
       "    <tr>\n",
       "      <th>9</th>\n",
       "      <td>2.131310e+14</td>\n",
       "      <td>1</td>\n",
       "      <td>20170428</td>\n",
       "      <td>1493419318</td>\n",
       "      <td>0</td>\n",
       "      <td>13</td>\n",
       "      <td>272</td>\n",
       "      <td>39590000</td>\n",
       "      <td>1</td>\n",
       "      <td>(direct)</td>\n",
       "      <td>(none)</td>\n",
       "      <td>(not set)</td>\n",
       "      <td>desktop</td>\n",
       "      <td>Macintosh</td>\n",
       "      <td>not available in demo dataset</td>\n",
       "      <td>San Francisco</td>\n",
       "      <td>Direct</td>\n",
       "    </tr>\n",
       "  </tbody>\n",
       "</table>\n",
       "</div>"
      ],
      "text/plain": [
       "     Visitor Id  Visit Number      Date  Visit Start Time  Total Bounces  \\\n",
       "0  2.737660e+13             1  20170211        1486866293              0   \n",
       "1  3.946050e+13             1  20170327        1490629516              0   \n",
       "2  4.086270e+13             1  20170211        1486836571              0   \n",
       "3  4.086270e+13             2  20170211        1486838824              0   \n",
       "4  6.226770e+13             1  20170709        1499645960              1   \n",
       "5  6.840400e+13             1  20170403        1491281649              0   \n",
       "6  8.505980e+13             1  20170719        1500505105              1   \n",
       "7  1.766520e+14             1  20170116        1484597865              1   \n",
       "8  1.976710e+14             1  20170502        1493772870              1   \n",
       "9  2.131310e+14             1  20170428        1493419318              0   \n",
       "\n",
       "   Total Page Views  Time On Site  Total Revenue  Total Transactions  \\\n",
       "0                 5            49              0                   0   \n",
       "1                 2            99              0                   0   \n",
       "2                 2            14              0                   0   \n",
       "3                 3            35              0                   0   \n",
       "4                 1             0              0                   0   \n",
       "5                 2            18              0                   0   \n",
       "6                 1             0              0                   0   \n",
       "7                 1             0              0                   0   \n",
       "8                 1             0              0                   0   \n",
       "9                13           272       39590000                   1   \n",
       "\n",
       "   Traffic Source Source Medium   Source Campaign Device Category         OS  \\\n",
       "0        (direct)        (none)         (not set)         desktop  Macintosh   \n",
       "1     youtube.com      referral         (not set)         desktop    Windows   \n",
       "2        (direct)        (none)         (not set)         desktop  Macintosh   \n",
       "3        (direct)        (none)         (not set)         desktop  Macintosh   \n",
       "4        Partners     affiliate  Data Share Promo         desktop    Windows   \n",
       "5          google       organic         (not set)          tablet        iOS   \n",
       "6        (direct)        (none)         (not set)          mobile        iOS   \n",
       "7     youtube.com      referral         (not set)         desktop      Linux   \n",
       "8  m.facebook.com      referral         (not set)          mobile    Android   \n",
       "9        (direct)        (none)         (not set)         desktop  Macintosh   \n",
       "\n",
       "             Mobile Device Model                           City  \\\n",
       "0  not available in demo dataset  not available in demo dataset   \n",
       "1  not available in demo dataset  not available in demo dataset   \n",
       "2  not available in demo dataset                        Oakland   \n",
       "3  not available in demo dataset                        Oakland   \n",
       "4  not available in demo dataset  not available in demo dataset   \n",
       "5  not available in demo dataset                    Los Angeles   \n",
       "6  not available in demo dataset                        Chicago   \n",
       "7  not available in demo dataset  not available in demo dataset   \n",
       "8  not available in demo dataset  not available in demo dataset   \n",
       "9  not available in demo dataset                  San Francisco   \n",
       "\n",
       "  Channel Grouping  \n",
       "0   Organic Search  \n",
       "1           Social  \n",
       "2      Paid Search  \n",
       "3      Paid Search  \n",
       "4       Affiliates  \n",
       "5   Organic Search  \n",
       "6           Direct  \n",
       "7           Social  \n",
       "8           Social  \n",
       "9           Direct  "
      ]
     },
     "execution_count": 65,
     "metadata": {},
     "output_type": "execute_result"
    }
   ],
   "source": [
    "df.head(10)"
   ]
  },
  {
   "cell_type": "code",
   "execution_count": 66,
   "metadata": {},
   "outputs": [
    {
     "data": {
      "text/plain": [
       "(464704, 17)"
      ]
     },
     "execution_count": 66,
     "metadata": {},
     "output_type": "execute_result"
    }
   ],
   "source": [
    "df.shape"
   ]
  },
  {
   "cell_type": "code",
   "execution_count": 67,
   "metadata": {},
   "outputs": [],
   "source": [
    "missing_data = df.isnull()"
   ]
  },
  {
   "cell_type": "code",
   "execution_count": 68,
   "metadata": {},
   "outputs": [
    {
     "name": "stdout",
     "output_type": "stream",
     "text": [
      "Visitor Id\n",
      "False    464704\n",
      "Name: Visitor Id, dtype: int64\n",
      "\n",
      "Visit Number\n",
      "False    464704\n",
      "Name: Visit Number, dtype: int64\n",
      "\n",
      "Date\n",
      "False    464704\n",
      "Name: Date, dtype: int64\n",
      "\n",
      "Visit Start Time\n",
      "False    464704\n",
      "Name: Visit Start Time, dtype: int64\n",
      "\n",
      "Total Bounces\n",
      "False    464704\n",
      "Name: Total Bounces, dtype: int64\n",
      "\n",
      "Total Page Views\n",
      "False    464704\n",
      "Name: Total Page Views, dtype: int64\n",
      "\n",
      "Time On Site\n",
      "False    464704\n",
      "Name: Time On Site, dtype: int64\n",
      "\n",
      "Total Revenue\n",
      "False    464704\n",
      "Name: Total Revenue, dtype: int64\n",
      "\n",
      "Total Transactions\n",
      "False    464704\n",
      "Name: Total Transactions, dtype: int64\n",
      "\n",
      "Traffic Source\n",
      "False    464704\n",
      "Name: Traffic Source, dtype: int64\n",
      "\n",
      "Source Medium\n",
      "False    464704\n",
      "Name: Source Medium, dtype: int64\n",
      "\n",
      "Source Campaign\n",
      "False    464704\n",
      "Name: Source Campaign, dtype: int64\n",
      "\n",
      "Device Category\n",
      "False    464704\n",
      "Name: Device Category, dtype: int64\n",
      "\n",
      "OS\n",
      "False    464704\n",
      "Name: OS, dtype: int64\n",
      "\n",
      "Mobile Device Model\n",
      "False    464704\n",
      "Name: Mobile Device Model, dtype: int64\n",
      "\n",
      "City\n",
      "False    464704\n",
      "Name: City, dtype: int64\n",
      "\n",
      "Channel Grouping\n",
      "False    464704\n",
      "Name: Channel Grouping, dtype: int64\n",
      "\n"
     ]
    }
   ],
   "source": [
    "# Using a for loop to find missing values in each column\n",
    "for column in missing_data.columns.values.tolist():\n",
    "    print(column)\n",
    "    print (missing_data[column].value_counts())\n",
    "    print(\"\")"
   ]
  },
  {
   "cell_type": "code",
   "execution_count": 69,
   "metadata": {},
   "outputs": [
    {
     "data": {
      "text/plain": [
       "Visitor Id             float64\n",
       "Visit Number             int64\n",
       "Date                     int64\n",
       "Visit Start Time         int64\n",
       "Total Bounces            int64\n",
       "Total Page Views         int64\n",
       "Time On Site             int64\n",
       "Total Revenue            int64\n",
       "Total Transactions       int64\n",
       "Traffic Source          object\n",
       "Source Medium           object\n",
       "Source Campaign         object\n",
       "Device Category         object\n",
       "OS                      object\n",
       "Mobile Device Model     object\n",
       "City                    object\n",
       "Channel Grouping        object\n",
       "dtype: object"
      ]
     },
     "execution_count": 69,
     "metadata": {},
     "output_type": "execute_result"
    }
   ],
   "source": [
    "df.dtypes"
   ]
  },
  {
   "cell_type": "code",
   "execution_count": 70,
   "metadata": {},
   "outputs": [],
   "source": [
    "#df['DateTime'] = df['Date'].apply(lambda x: pd.to_datetime(x, format='%Y%m%d'))"
   ]
  },
  {
   "cell_type": "code",
   "execution_count": 71,
   "metadata": {},
   "outputs": [],
   "source": [
    "df['DateTime'] = pd.to_datetime(df['Date'], format='%Y-%m-%d')"
   ]
  },
  {
   "cell_type": "code",
   "execution_count": 72,
   "metadata": {},
   "outputs": [],
   "source": [
    "#df['StartTime'] = df['Visit Start Time'].apply(lambda x: pd.to_datetime(x, unit = 's'))"
   ]
  },
  {
   "cell_type": "code",
   "execution_count": 73,
   "metadata": {},
   "outputs": [],
   "source": [
    "df['StartTime'] = pd.to_datetime(df['Visit Start Time'], unit = 's')"
   ]
  },
  {
   "cell_type": "code",
   "execution_count": 74,
   "metadata": {},
   "outputs": [
    {
     "data": {
      "text/html": [
       "<div>\n",
       "<style scoped>\n",
       "    .dataframe tbody tr th:only-of-type {\n",
       "        vertical-align: middle;\n",
       "    }\n",
       "\n",
       "    .dataframe tbody tr th {\n",
       "        vertical-align: top;\n",
       "    }\n",
       "\n",
       "    .dataframe thead th {\n",
       "        text-align: right;\n",
       "    }\n",
       "</style>\n",
       "<table border=\"1\" class=\"dataframe\">\n",
       "  <thead>\n",
       "    <tr style=\"text-align: right;\">\n",
       "      <th></th>\n",
       "      <th>Visitor Id</th>\n",
       "      <th>Visit Number</th>\n",
       "      <th>Date</th>\n",
       "      <th>Visit Start Time</th>\n",
       "      <th>Total Bounces</th>\n",
       "      <th>Total Page Views</th>\n",
       "      <th>Time On Site</th>\n",
       "      <th>Total Revenue</th>\n",
       "      <th>Total Transactions</th>\n",
       "      <th>Traffic Source</th>\n",
       "      <th>Source Medium</th>\n",
       "      <th>Source Campaign</th>\n",
       "      <th>Device Category</th>\n",
       "      <th>OS</th>\n",
       "      <th>Mobile Device Model</th>\n",
       "      <th>City</th>\n",
       "      <th>Channel Grouping</th>\n",
       "      <th>DateTime</th>\n",
       "      <th>StartTime</th>\n",
       "    </tr>\n",
       "  </thead>\n",
       "  <tbody>\n",
       "    <tr>\n",
       "      <th>0</th>\n",
       "      <td>2.737660e+13</td>\n",
       "      <td>1</td>\n",
       "      <td>20170211</td>\n",
       "      <td>1486866293</td>\n",
       "      <td>0</td>\n",
       "      <td>5</td>\n",
       "      <td>49</td>\n",
       "      <td>0</td>\n",
       "      <td>0</td>\n",
       "      <td>(direct)</td>\n",
       "      <td>(none)</td>\n",
       "      <td>(not set)</td>\n",
       "      <td>desktop</td>\n",
       "      <td>Macintosh</td>\n",
       "      <td>not available in demo dataset</td>\n",
       "      <td>not available in demo dataset</td>\n",
       "      <td>Organic Search</td>\n",
       "      <td>1970-01-01 00:00:00.020170211</td>\n",
       "      <td>2017-02-12 02:24:53</td>\n",
       "    </tr>\n",
       "    <tr>\n",
       "      <th>1</th>\n",
       "      <td>3.946050e+13</td>\n",
       "      <td>1</td>\n",
       "      <td>20170327</td>\n",
       "      <td>1490629516</td>\n",
       "      <td>0</td>\n",
       "      <td>2</td>\n",
       "      <td>99</td>\n",
       "      <td>0</td>\n",
       "      <td>0</td>\n",
       "      <td>youtube.com</td>\n",
       "      <td>referral</td>\n",
       "      <td>(not set)</td>\n",
       "      <td>desktop</td>\n",
       "      <td>Windows</td>\n",
       "      <td>not available in demo dataset</td>\n",
       "      <td>not available in demo dataset</td>\n",
       "      <td>Social</td>\n",
       "      <td>1970-01-01 00:00:00.020170327</td>\n",
       "      <td>2017-03-27 15:45:16</td>\n",
       "    </tr>\n",
       "    <tr>\n",
       "      <th>2</th>\n",
       "      <td>4.086270e+13</td>\n",
       "      <td>1</td>\n",
       "      <td>20170211</td>\n",
       "      <td>1486836571</td>\n",
       "      <td>0</td>\n",
       "      <td>2</td>\n",
       "      <td>14</td>\n",
       "      <td>0</td>\n",
       "      <td>0</td>\n",
       "      <td>(direct)</td>\n",
       "      <td>(none)</td>\n",
       "      <td>(not set)</td>\n",
       "      <td>desktop</td>\n",
       "      <td>Macintosh</td>\n",
       "      <td>not available in demo dataset</td>\n",
       "      <td>Oakland</td>\n",
       "      <td>Paid Search</td>\n",
       "      <td>1970-01-01 00:00:00.020170211</td>\n",
       "      <td>2017-02-11 18:09:31</td>\n",
       "    </tr>\n",
       "    <tr>\n",
       "      <th>3</th>\n",
       "      <td>4.086270e+13</td>\n",
       "      <td>2</td>\n",
       "      <td>20170211</td>\n",
       "      <td>1486838824</td>\n",
       "      <td>0</td>\n",
       "      <td>3</td>\n",
       "      <td>35</td>\n",
       "      <td>0</td>\n",
       "      <td>0</td>\n",
       "      <td>(direct)</td>\n",
       "      <td>(none)</td>\n",
       "      <td>(not set)</td>\n",
       "      <td>desktop</td>\n",
       "      <td>Macintosh</td>\n",
       "      <td>not available in demo dataset</td>\n",
       "      <td>Oakland</td>\n",
       "      <td>Paid Search</td>\n",
       "      <td>1970-01-01 00:00:00.020170211</td>\n",
       "      <td>2017-02-11 18:47:04</td>\n",
       "    </tr>\n",
       "    <tr>\n",
       "      <th>4</th>\n",
       "      <td>6.226770e+13</td>\n",
       "      <td>1</td>\n",
       "      <td>20170709</td>\n",
       "      <td>1499645960</td>\n",
       "      <td>1</td>\n",
       "      <td>1</td>\n",
       "      <td>0</td>\n",
       "      <td>0</td>\n",
       "      <td>0</td>\n",
       "      <td>Partners</td>\n",
       "      <td>affiliate</td>\n",
       "      <td>Data Share Promo</td>\n",
       "      <td>desktop</td>\n",
       "      <td>Windows</td>\n",
       "      <td>not available in demo dataset</td>\n",
       "      <td>not available in demo dataset</td>\n",
       "      <td>Affiliates</td>\n",
       "      <td>1970-01-01 00:00:00.020170709</td>\n",
       "      <td>2017-07-10 00:19:20</td>\n",
       "    </tr>\n",
       "    <tr>\n",
       "      <th>5</th>\n",
       "      <td>6.840400e+13</td>\n",
       "      <td>1</td>\n",
       "      <td>20170403</td>\n",
       "      <td>1491281649</td>\n",
       "      <td>0</td>\n",
       "      <td>2</td>\n",
       "      <td>18</td>\n",
       "      <td>0</td>\n",
       "      <td>0</td>\n",
       "      <td>google</td>\n",
       "      <td>organic</td>\n",
       "      <td>(not set)</td>\n",
       "      <td>tablet</td>\n",
       "      <td>iOS</td>\n",
       "      <td>not available in demo dataset</td>\n",
       "      <td>Los Angeles</td>\n",
       "      <td>Organic Search</td>\n",
       "      <td>1970-01-01 00:00:00.020170403</td>\n",
       "      <td>2017-04-04 04:54:09</td>\n",
       "    </tr>\n",
       "    <tr>\n",
       "      <th>6</th>\n",
       "      <td>8.505980e+13</td>\n",
       "      <td>1</td>\n",
       "      <td>20170719</td>\n",
       "      <td>1500505105</td>\n",
       "      <td>1</td>\n",
       "      <td>1</td>\n",
       "      <td>0</td>\n",
       "      <td>0</td>\n",
       "      <td>0</td>\n",
       "      <td>(direct)</td>\n",
       "      <td>(none)</td>\n",
       "      <td>(not set)</td>\n",
       "      <td>mobile</td>\n",
       "      <td>iOS</td>\n",
       "      <td>not available in demo dataset</td>\n",
       "      <td>Chicago</td>\n",
       "      <td>Direct</td>\n",
       "      <td>1970-01-01 00:00:00.020170719</td>\n",
       "      <td>2017-07-19 22:58:25</td>\n",
       "    </tr>\n",
       "    <tr>\n",
       "      <th>7</th>\n",
       "      <td>1.766520e+14</td>\n",
       "      <td>1</td>\n",
       "      <td>20170116</td>\n",
       "      <td>1484597865</td>\n",
       "      <td>1</td>\n",
       "      <td>1</td>\n",
       "      <td>0</td>\n",
       "      <td>0</td>\n",
       "      <td>0</td>\n",
       "      <td>youtube.com</td>\n",
       "      <td>referral</td>\n",
       "      <td>(not set)</td>\n",
       "      <td>desktop</td>\n",
       "      <td>Linux</td>\n",
       "      <td>not available in demo dataset</td>\n",
       "      <td>not available in demo dataset</td>\n",
       "      <td>Social</td>\n",
       "      <td>1970-01-01 00:00:00.020170116</td>\n",
       "      <td>2017-01-16 20:17:45</td>\n",
       "    </tr>\n",
       "    <tr>\n",
       "      <th>8</th>\n",
       "      <td>1.976710e+14</td>\n",
       "      <td>1</td>\n",
       "      <td>20170502</td>\n",
       "      <td>1493772870</td>\n",
       "      <td>1</td>\n",
       "      <td>1</td>\n",
       "      <td>0</td>\n",
       "      <td>0</td>\n",
       "      <td>0</td>\n",
       "      <td>m.facebook.com</td>\n",
       "      <td>referral</td>\n",
       "      <td>(not set)</td>\n",
       "      <td>mobile</td>\n",
       "      <td>Android</td>\n",
       "      <td>not available in demo dataset</td>\n",
       "      <td>not available in demo dataset</td>\n",
       "      <td>Social</td>\n",
       "      <td>1970-01-01 00:00:00.020170502</td>\n",
       "      <td>2017-05-03 00:54:30</td>\n",
       "    </tr>\n",
       "    <tr>\n",
       "      <th>9</th>\n",
       "      <td>2.131310e+14</td>\n",
       "      <td>1</td>\n",
       "      <td>20170428</td>\n",
       "      <td>1493419318</td>\n",
       "      <td>0</td>\n",
       "      <td>13</td>\n",
       "      <td>272</td>\n",
       "      <td>39590000</td>\n",
       "      <td>1</td>\n",
       "      <td>(direct)</td>\n",
       "      <td>(none)</td>\n",
       "      <td>(not set)</td>\n",
       "      <td>desktop</td>\n",
       "      <td>Macintosh</td>\n",
       "      <td>not available in demo dataset</td>\n",
       "      <td>San Francisco</td>\n",
       "      <td>Direct</td>\n",
       "      <td>1970-01-01 00:00:00.020170428</td>\n",
       "      <td>2017-04-28 22:41:58</td>\n",
       "    </tr>\n",
       "  </tbody>\n",
       "</table>\n",
       "</div>"
      ],
      "text/plain": [
       "     Visitor Id  Visit Number      Date  Visit Start Time  Total Bounces  \\\n",
       "0  2.737660e+13             1  20170211        1486866293              0   \n",
       "1  3.946050e+13             1  20170327        1490629516              0   \n",
       "2  4.086270e+13             1  20170211        1486836571              0   \n",
       "3  4.086270e+13             2  20170211        1486838824              0   \n",
       "4  6.226770e+13             1  20170709        1499645960              1   \n",
       "5  6.840400e+13             1  20170403        1491281649              0   \n",
       "6  8.505980e+13             1  20170719        1500505105              1   \n",
       "7  1.766520e+14             1  20170116        1484597865              1   \n",
       "8  1.976710e+14             1  20170502        1493772870              1   \n",
       "9  2.131310e+14             1  20170428        1493419318              0   \n",
       "\n",
       "   Total Page Views  Time On Site  Total Revenue  Total Transactions  \\\n",
       "0                 5            49              0                   0   \n",
       "1                 2            99              0                   0   \n",
       "2                 2            14              0                   0   \n",
       "3                 3            35              0                   0   \n",
       "4                 1             0              0                   0   \n",
       "5                 2            18              0                   0   \n",
       "6                 1             0              0                   0   \n",
       "7                 1             0              0                   0   \n",
       "8                 1             0              0                   0   \n",
       "9                13           272       39590000                   1   \n",
       "\n",
       "   Traffic Source Source Medium   Source Campaign Device Category         OS  \\\n",
       "0        (direct)        (none)         (not set)         desktop  Macintosh   \n",
       "1     youtube.com      referral         (not set)         desktop    Windows   \n",
       "2        (direct)        (none)         (not set)         desktop  Macintosh   \n",
       "3        (direct)        (none)         (not set)         desktop  Macintosh   \n",
       "4        Partners     affiliate  Data Share Promo         desktop    Windows   \n",
       "5          google       organic         (not set)          tablet        iOS   \n",
       "6        (direct)        (none)         (not set)          mobile        iOS   \n",
       "7     youtube.com      referral         (not set)         desktop      Linux   \n",
       "8  m.facebook.com      referral         (not set)          mobile    Android   \n",
       "9        (direct)        (none)         (not set)         desktop  Macintosh   \n",
       "\n",
       "             Mobile Device Model                           City  \\\n",
       "0  not available in demo dataset  not available in demo dataset   \n",
       "1  not available in demo dataset  not available in demo dataset   \n",
       "2  not available in demo dataset                        Oakland   \n",
       "3  not available in demo dataset                        Oakland   \n",
       "4  not available in demo dataset  not available in demo dataset   \n",
       "5  not available in demo dataset                    Los Angeles   \n",
       "6  not available in demo dataset                        Chicago   \n",
       "7  not available in demo dataset  not available in demo dataset   \n",
       "8  not available in demo dataset  not available in demo dataset   \n",
       "9  not available in demo dataset                  San Francisco   \n",
       "\n",
       "  Channel Grouping                      DateTime           StartTime  \n",
       "0   Organic Search 1970-01-01 00:00:00.020170211 2017-02-12 02:24:53  \n",
       "1           Social 1970-01-01 00:00:00.020170327 2017-03-27 15:45:16  \n",
       "2      Paid Search 1970-01-01 00:00:00.020170211 2017-02-11 18:09:31  \n",
       "3      Paid Search 1970-01-01 00:00:00.020170211 2017-02-11 18:47:04  \n",
       "4       Affiliates 1970-01-01 00:00:00.020170709 2017-07-10 00:19:20  \n",
       "5   Organic Search 1970-01-01 00:00:00.020170403 2017-04-04 04:54:09  \n",
       "6           Direct 1970-01-01 00:00:00.020170719 2017-07-19 22:58:25  \n",
       "7           Social 1970-01-01 00:00:00.020170116 2017-01-16 20:17:45  \n",
       "8           Social 1970-01-01 00:00:00.020170502 2017-05-03 00:54:30  \n",
       "9           Direct 1970-01-01 00:00:00.020170428 2017-04-28 22:41:58  "
      ]
     },
     "execution_count": 74,
     "metadata": {},
     "output_type": "execute_result"
    }
   ],
   "source": [
    "df.head(10)"
   ]
  },
  {
   "cell_type": "code",
   "execution_count": 75,
   "metadata": {},
   "outputs": [
    {
     "data": {
      "text/plain": [
       "Visitor Id                    float64\n",
       "Visit Number                    int64\n",
       "Date                            int64\n",
       "Visit Start Time                int64\n",
       "Total Bounces                   int64\n",
       "Total Page Views                int64\n",
       "Time On Site                    int64\n",
       "Total Revenue                   int64\n",
       "Total Transactions              int64\n",
       "Traffic Source                 object\n",
       "Source Medium                  object\n",
       "Source Campaign                object\n",
       "Device Category                object\n",
       "OS                             object\n",
       "Mobile Device Model            object\n",
       "City                           object\n",
       "Channel Grouping               object\n",
       "DateTime               datetime64[ns]\n",
       "StartTime              datetime64[ns]\n",
       "dtype: object"
      ]
     },
     "execution_count": 75,
     "metadata": {},
     "output_type": "execute_result"
    }
   ],
   "source": [
    "df.dtypes"
   ]
  },
  {
   "cell_type": "code",
   "execution_count": 87,
   "metadata": {},
   "outputs": [],
   "source": [
    "df.to_csv('Downloads/sample_user_clean_data.csv')"
   ]
  },
  {
   "cell_type": "code",
   "execution_count": 88,
   "metadata": {},
   "outputs": [],
   "source": [
    "df = pd.read_csv('Downloads/sample_user_clean_data.csv')"
   ]
  },
  {
   "cell_type": "code",
   "execution_count": 89,
   "metadata": {},
   "outputs": [
    {
     "data": {
      "text/html": [
       "<div>\n",
       "<style scoped>\n",
       "    .dataframe tbody tr th:only-of-type {\n",
       "        vertical-align: middle;\n",
       "    }\n",
       "\n",
       "    .dataframe tbody tr th {\n",
       "        vertical-align: top;\n",
       "    }\n",
       "\n",
       "    .dataframe thead th {\n",
       "        text-align: right;\n",
       "    }\n",
       "</style>\n",
       "<table border=\"1\" class=\"dataframe\">\n",
       "  <thead>\n",
       "    <tr style=\"text-align: right;\">\n",
       "      <th></th>\n",
       "      <th>Unnamed: 0</th>\n",
       "      <th>Visitor Id</th>\n",
       "      <th>Visit Number</th>\n",
       "      <th>Date</th>\n",
       "      <th>Visit Start Time</th>\n",
       "      <th>Total Bounces</th>\n",
       "      <th>Total Page Views</th>\n",
       "      <th>Time On Site</th>\n",
       "      <th>Total Revenue</th>\n",
       "      <th>Total Transactions</th>\n",
       "      <th>Traffic Source</th>\n",
       "      <th>Source Medium</th>\n",
       "      <th>Source Campaign</th>\n",
       "      <th>Device Category</th>\n",
       "      <th>OS</th>\n",
       "      <th>Mobile Device Model</th>\n",
       "      <th>City</th>\n",
       "      <th>Channel Grouping</th>\n",
       "      <th>DateTime</th>\n",
       "      <th>StartTime</th>\n",
       "    </tr>\n",
       "  </thead>\n",
       "  <tbody>\n",
       "    <tr>\n",
       "      <th>0</th>\n",
       "      <td>0</td>\n",
       "      <td>2.737660e+13</td>\n",
       "      <td>1</td>\n",
       "      <td>20170211</td>\n",
       "      <td>1486866293</td>\n",
       "      <td>0</td>\n",
       "      <td>5</td>\n",
       "      <td>49</td>\n",
       "      <td>0</td>\n",
       "      <td>0</td>\n",
       "      <td>(direct)</td>\n",
       "      <td>(none)</td>\n",
       "      <td>(not set)</td>\n",
       "      <td>desktop</td>\n",
       "      <td>Macintosh</td>\n",
       "      <td>not available in demo dataset</td>\n",
       "      <td>not available in demo dataset</td>\n",
       "      <td>Organic Search</td>\n",
       "      <td>1970-01-01 00:00:00.020170211</td>\n",
       "      <td>2017-02-12 02:24:53</td>\n",
       "    </tr>\n",
       "    <tr>\n",
       "      <th>1</th>\n",
       "      <td>1</td>\n",
       "      <td>3.946050e+13</td>\n",
       "      <td>1</td>\n",
       "      <td>20170327</td>\n",
       "      <td>1490629516</td>\n",
       "      <td>0</td>\n",
       "      <td>2</td>\n",
       "      <td>99</td>\n",
       "      <td>0</td>\n",
       "      <td>0</td>\n",
       "      <td>youtube.com</td>\n",
       "      <td>referral</td>\n",
       "      <td>(not set)</td>\n",
       "      <td>desktop</td>\n",
       "      <td>Windows</td>\n",
       "      <td>not available in demo dataset</td>\n",
       "      <td>not available in demo dataset</td>\n",
       "      <td>Social</td>\n",
       "      <td>1970-01-01 00:00:00.020170327</td>\n",
       "      <td>2017-03-27 15:45:16</td>\n",
       "    </tr>\n",
       "    <tr>\n",
       "      <th>2</th>\n",
       "      <td>2</td>\n",
       "      <td>4.086270e+13</td>\n",
       "      <td>1</td>\n",
       "      <td>20170211</td>\n",
       "      <td>1486836571</td>\n",
       "      <td>0</td>\n",
       "      <td>2</td>\n",
       "      <td>14</td>\n",
       "      <td>0</td>\n",
       "      <td>0</td>\n",
       "      <td>(direct)</td>\n",
       "      <td>(none)</td>\n",
       "      <td>(not set)</td>\n",
       "      <td>desktop</td>\n",
       "      <td>Macintosh</td>\n",
       "      <td>not available in demo dataset</td>\n",
       "      <td>Oakland</td>\n",
       "      <td>Paid Search</td>\n",
       "      <td>1970-01-01 00:00:00.020170211</td>\n",
       "      <td>2017-02-11 18:09:31</td>\n",
       "    </tr>\n",
       "    <tr>\n",
       "      <th>3</th>\n",
       "      <td>3</td>\n",
       "      <td>4.086270e+13</td>\n",
       "      <td>2</td>\n",
       "      <td>20170211</td>\n",
       "      <td>1486838824</td>\n",
       "      <td>0</td>\n",
       "      <td>3</td>\n",
       "      <td>35</td>\n",
       "      <td>0</td>\n",
       "      <td>0</td>\n",
       "      <td>(direct)</td>\n",
       "      <td>(none)</td>\n",
       "      <td>(not set)</td>\n",
       "      <td>desktop</td>\n",
       "      <td>Macintosh</td>\n",
       "      <td>not available in demo dataset</td>\n",
       "      <td>Oakland</td>\n",
       "      <td>Paid Search</td>\n",
       "      <td>1970-01-01 00:00:00.020170211</td>\n",
       "      <td>2017-02-11 18:47:04</td>\n",
       "    </tr>\n",
       "    <tr>\n",
       "      <th>4</th>\n",
       "      <td>4</td>\n",
       "      <td>6.226770e+13</td>\n",
       "      <td>1</td>\n",
       "      <td>20170709</td>\n",
       "      <td>1499645960</td>\n",
       "      <td>1</td>\n",
       "      <td>1</td>\n",
       "      <td>0</td>\n",
       "      <td>0</td>\n",
       "      <td>0</td>\n",
       "      <td>Partners</td>\n",
       "      <td>affiliate</td>\n",
       "      <td>Data Share Promo</td>\n",
       "      <td>desktop</td>\n",
       "      <td>Windows</td>\n",
       "      <td>not available in demo dataset</td>\n",
       "      <td>not available in demo dataset</td>\n",
       "      <td>Affiliates</td>\n",
       "      <td>1970-01-01 00:00:00.020170709</td>\n",
       "      <td>2017-07-10 00:19:20</td>\n",
       "    </tr>\n",
       "    <tr>\n",
       "      <th>5</th>\n",
       "      <td>5</td>\n",
       "      <td>6.840400e+13</td>\n",
       "      <td>1</td>\n",
       "      <td>20170403</td>\n",
       "      <td>1491281649</td>\n",
       "      <td>0</td>\n",
       "      <td>2</td>\n",
       "      <td>18</td>\n",
       "      <td>0</td>\n",
       "      <td>0</td>\n",
       "      <td>google</td>\n",
       "      <td>organic</td>\n",
       "      <td>(not set)</td>\n",
       "      <td>tablet</td>\n",
       "      <td>iOS</td>\n",
       "      <td>not available in demo dataset</td>\n",
       "      <td>Los Angeles</td>\n",
       "      <td>Organic Search</td>\n",
       "      <td>1970-01-01 00:00:00.020170403</td>\n",
       "      <td>2017-04-04 04:54:09</td>\n",
       "    </tr>\n",
       "    <tr>\n",
       "      <th>6</th>\n",
       "      <td>6</td>\n",
       "      <td>8.505980e+13</td>\n",
       "      <td>1</td>\n",
       "      <td>20170719</td>\n",
       "      <td>1500505105</td>\n",
       "      <td>1</td>\n",
       "      <td>1</td>\n",
       "      <td>0</td>\n",
       "      <td>0</td>\n",
       "      <td>0</td>\n",
       "      <td>(direct)</td>\n",
       "      <td>(none)</td>\n",
       "      <td>(not set)</td>\n",
       "      <td>mobile</td>\n",
       "      <td>iOS</td>\n",
       "      <td>not available in demo dataset</td>\n",
       "      <td>Chicago</td>\n",
       "      <td>Direct</td>\n",
       "      <td>1970-01-01 00:00:00.020170719</td>\n",
       "      <td>2017-07-19 22:58:25</td>\n",
       "    </tr>\n",
       "    <tr>\n",
       "      <th>7</th>\n",
       "      <td>7</td>\n",
       "      <td>1.766520e+14</td>\n",
       "      <td>1</td>\n",
       "      <td>20170116</td>\n",
       "      <td>1484597865</td>\n",
       "      <td>1</td>\n",
       "      <td>1</td>\n",
       "      <td>0</td>\n",
       "      <td>0</td>\n",
       "      <td>0</td>\n",
       "      <td>youtube.com</td>\n",
       "      <td>referral</td>\n",
       "      <td>(not set)</td>\n",
       "      <td>desktop</td>\n",
       "      <td>Linux</td>\n",
       "      <td>not available in demo dataset</td>\n",
       "      <td>not available in demo dataset</td>\n",
       "      <td>Social</td>\n",
       "      <td>1970-01-01 00:00:00.020170116</td>\n",
       "      <td>2017-01-16 20:17:45</td>\n",
       "    </tr>\n",
       "    <tr>\n",
       "      <th>8</th>\n",
       "      <td>8</td>\n",
       "      <td>1.976710e+14</td>\n",
       "      <td>1</td>\n",
       "      <td>20170502</td>\n",
       "      <td>1493772870</td>\n",
       "      <td>1</td>\n",
       "      <td>1</td>\n",
       "      <td>0</td>\n",
       "      <td>0</td>\n",
       "      <td>0</td>\n",
       "      <td>m.facebook.com</td>\n",
       "      <td>referral</td>\n",
       "      <td>(not set)</td>\n",
       "      <td>mobile</td>\n",
       "      <td>Android</td>\n",
       "      <td>not available in demo dataset</td>\n",
       "      <td>not available in demo dataset</td>\n",
       "      <td>Social</td>\n",
       "      <td>1970-01-01 00:00:00.020170502</td>\n",
       "      <td>2017-05-03 00:54:30</td>\n",
       "    </tr>\n",
       "    <tr>\n",
       "      <th>9</th>\n",
       "      <td>9</td>\n",
       "      <td>2.131310e+14</td>\n",
       "      <td>1</td>\n",
       "      <td>20170428</td>\n",
       "      <td>1493419318</td>\n",
       "      <td>0</td>\n",
       "      <td>13</td>\n",
       "      <td>272</td>\n",
       "      <td>39590000</td>\n",
       "      <td>1</td>\n",
       "      <td>(direct)</td>\n",
       "      <td>(none)</td>\n",
       "      <td>(not set)</td>\n",
       "      <td>desktop</td>\n",
       "      <td>Macintosh</td>\n",
       "      <td>not available in demo dataset</td>\n",
       "      <td>San Francisco</td>\n",
       "      <td>Direct</td>\n",
       "      <td>1970-01-01 00:00:00.020170428</td>\n",
       "      <td>2017-04-28 22:41:58</td>\n",
       "    </tr>\n",
       "  </tbody>\n",
       "</table>\n",
       "</div>"
      ],
      "text/plain": [
       "   Unnamed: 0    Visitor Id  Visit Number      Date  Visit Start Time  \\\n",
       "0           0  2.737660e+13             1  20170211        1486866293   \n",
       "1           1  3.946050e+13             1  20170327        1490629516   \n",
       "2           2  4.086270e+13             1  20170211        1486836571   \n",
       "3           3  4.086270e+13             2  20170211        1486838824   \n",
       "4           4  6.226770e+13             1  20170709        1499645960   \n",
       "5           5  6.840400e+13             1  20170403        1491281649   \n",
       "6           6  8.505980e+13             1  20170719        1500505105   \n",
       "7           7  1.766520e+14             1  20170116        1484597865   \n",
       "8           8  1.976710e+14             1  20170502        1493772870   \n",
       "9           9  2.131310e+14             1  20170428        1493419318   \n",
       "\n",
       "   Total Bounces  Total Page Views  Time On Site  Total Revenue  \\\n",
       "0              0                 5            49              0   \n",
       "1              0                 2            99              0   \n",
       "2              0                 2            14              0   \n",
       "3              0                 3            35              0   \n",
       "4              1                 1             0              0   \n",
       "5              0                 2            18              0   \n",
       "6              1                 1             0              0   \n",
       "7              1                 1             0              0   \n",
       "8              1                 1             0              0   \n",
       "9              0                13           272       39590000   \n",
       "\n",
       "   Total Transactions  Traffic Source Source Medium   Source Campaign  \\\n",
       "0                   0        (direct)        (none)         (not set)   \n",
       "1                   0     youtube.com      referral         (not set)   \n",
       "2                   0        (direct)        (none)         (not set)   \n",
       "3                   0        (direct)        (none)         (not set)   \n",
       "4                   0        Partners     affiliate  Data Share Promo   \n",
       "5                   0          google       organic         (not set)   \n",
       "6                   0        (direct)        (none)         (not set)   \n",
       "7                   0     youtube.com      referral         (not set)   \n",
       "8                   0  m.facebook.com      referral         (not set)   \n",
       "9                   1        (direct)        (none)         (not set)   \n",
       "\n",
       "  Device Category         OS            Mobile Device Model  \\\n",
       "0         desktop  Macintosh  not available in demo dataset   \n",
       "1         desktop    Windows  not available in demo dataset   \n",
       "2         desktop  Macintosh  not available in demo dataset   \n",
       "3         desktop  Macintosh  not available in demo dataset   \n",
       "4         desktop    Windows  not available in demo dataset   \n",
       "5          tablet        iOS  not available in demo dataset   \n",
       "6          mobile        iOS  not available in demo dataset   \n",
       "7         desktop      Linux  not available in demo dataset   \n",
       "8          mobile    Android  not available in demo dataset   \n",
       "9         desktop  Macintosh  not available in demo dataset   \n",
       "\n",
       "                            City Channel Grouping  \\\n",
       "0  not available in demo dataset   Organic Search   \n",
       "1  not available in demo dataset           Social   \n",
       "2                        Oakland      Paid Search   \n",
       "3                        Oakland      Paid Search   \n",
       "4  not available in demo dataset       Affiliates   \n",
       "5                    Los Angeles   Organic Search   \n",
       "6                        Chicago           Direct   \n",
       "7  not available in demo dataset           Social   \n",
       "8  not available in demo dataset           Social   \n",
       "9                  San Francisco           Direct   \n",
       "\n",
       "                        DateTime            StartTime  \n",
       "0  1970-01-01 00:00:00.020170211  2017-02-12 02:24:53  \n",
       "1  1970-01-01 00:00:00.020170327  2017-03-27 15:45:16  \n",
       "2  1970-01-01 00:00:00.020170211  2017-02-11 18:09:31  \n",
       "3  1970-01-01 00:00:00.020170211  2017-02-11 18:47:04  \n",
       "4  1970-01-01 00:00:00.020170709  2017-07-10 00:19:20  \n",
       "5  1970-01-01 00:00:00.020170403  2017-04-04 04:54:09  \n",
       "6  1970-01-01 00:00:00.020170719  2017-07-19 22:58:25  \n",
       "7  1970-01-01 00:00:00.020170116  2017-01-16 20:17:45  \n",
       "8  1970-01-01 00:00:00.020170502  2017-05-03 00:54:30  \n",
       "9  1970-01-01 00:00:00.020170428  2017-04-28 22:41:58  "
      ]
     },
     "execution_count": 89,
     "metadata": {},
     "output_type": "execute_result"
    }
   ],
   "source": [
    "df.head(10)"
   ]
  },
  {
   "cell_type": "code",
   "execution_count": 90,
   "metadata": {},
   "outputs": [],
   "source": [
    "#df.drop(columns=df.columns[0], axis=1, inplace=True)"
   ]
  },
  {
   "cell_type": "code",
   "execution_count": 91,
   "metadata": {},
   "outputs": [
    {
     "data": {
      "text/html": [
       "<div>\n",
       "<style scoped>\n",
       "    .dataframe tbody tr th:only-of-type {\n",
       "        vertical-align: middle;\n",
       "    }\n",
       "\n",
       "    .dataframe tbody tr th {\n",
       "        vertical-align: top;\n",
       "    }\n",
       "\n",
       "    .dataframe thead th {\n",
       "        text-align: right;\n",
       "    }\n",
       "</style>\n",
       "<table border=\"1\" class=\"dataframe\">\n",
       "  <thead>\n",
       "    <tr style=\"text-align: right;\">\n",
       "      <th></th>\n",
       "      <th>Unnamed: 0</th>\n",
       "      <th>Visitor Id</th>\n",
       "      <th>Visit Number</th>\n",
       "      <th>Date</th>\n",
       "      <th>Visit Start Time</th>\n",
       "      <th>Total Bounces</th>\n",
       "      <th>Total Page Views</th>\n",
       "      <th>Time On Site</th>\n",
       "      <th>Total Revenue</th>\n",
       "      <th>Total Transactions</th>\n",
       "      <th>Traffic Source</th>\n",
       "      <th>Source Medium</th>\n",
       "      <th>Source Campaign</th>\n",
       "      <th>Device Category</th>\n",
       "      <th>OS</th>\n",
       "      <th>Mobile Device Model</th>\n",
       "      <th>City</th>\n",
       "      <th>Channel Grouping</th>\n",
       "      <th>DateTime</th>\n",
       "      <th>StartTime</th>\n",
       "    </tr>\n",
       "  </thead>\n",
       "  <tbody>\n",
       "    <tr>\n",
       "      <th>0</th>\n",
       "      <td>0</td>\n",
       "      <td>2.737660e+13</td>\n",
       "      <td>1</td>\n",
       "      <td>20170211</td>\n",
       "      <td>1486866293</td>\n",
       "      <td>0</td>\n",
       "      <td>5</td>\n",
       "      <td>49</td>\n",
       "      <td>0</td>\n",
       "      <td>0</td>\n",
       "      <td>(direct)</td>\n",
       "      <td>(none)</td>\n",
       "      <td>(not set)</td>\n",
       "      <td>desktop</td>\n",
       "      <td>Macintosh</td>\n",
       "      <td>not available in demo dataset</td>\n",
       "      <td>not available in demo dataset</td>\n",
       "      <td>Organic Search</td>\n",
       "      <td>1970-01-01 00:00:00.020170211</td>\n",
       "      <td>2017-02-12 02:24:53</td>\n",
       "    </tr>\n",
       "    <tr>\n",
       "      <th>1</th>\n",
       "      <td>1</td>\n",
       "      <td>3.946050e+13</td>\n",
       "      <td>1</td>\n",
       "      <td>20170327</td>\n",
       "      <td>1490629516</td>\n",
       "      <td>0</td>\n",
       "      <td>2</td>\n",
       "      <td>99</td>\n",
       "      <td>0</td>\n",
       "      <td>0</td>\n",
       "      <td>youtube.com</td>\n",
       "      <td>referral</td>\n",
       "      <td>(not set)</td>\n",
       "      <td>desktop</td>\n",
       "      <td>Windows</td>\n",
       "      <td>not available in demo dataset</td>\n",
       "      <td>not available in demo dataset</td>\n",
       "      <td>Social</td>\n",
       "      <td>1970-01-01 00:00:00.020170327</td>\n",
       "      <td>2017-03-27 15:45:16</td>\n",
       "    </tr>\n",
       "    <tr>\n",
       "      <th>2</th>\n",
       "      <td>2</td>\n",
       "      <td>4.086270e+13</td>\n",
       "      <td>1</td>\n",
       "      <td>20170211</td>\n",
       "      <td>1486836571</td>\n",
       "      <td>0</td>\n",
       "      <td>2</td>\n",
       "      <td>14</td>\n",
       "      <td>0</td>\n",
       "      <td>0</td>\n",
       "      <td>(direct)</td>\n",
       "      <td>(none)</td>\n",
       "      <td>(not set)</td>\n",
       "      <td>desktop</td>\n",
       "      <td>Macintosh</td>\n",
       "      <td>not available in demo dataset</td>\n",
       "      <td>Oakland</td>\n",
       "      <td>Paid Search</td>\n",
       "      <td>1970-01-01 00:00:00.020170211</td>\n",
       "      <td>2017-02-11 18:09:31</td>\n",
       "    </tr>\n",
       "    <tr>\n",
       "      <th>3</th>\n",
       "      <td>3</td>\n",
       "      <td>4.086270e+13</td>\n",
       "      <td>2</td>\n",
       "      <td>20170211</td>\n",
       "      <td>1486838824</td>\n",
       "      <td>0</td>\n",
       "      <td>3</td>\n",
       "      <td>35</td>\n",
       "      <td>0</td>\n",
       "      <td>0</td>\n",
       "      <td>(direct)</td>\n",
       "      <td>(none)</td>\n",
       "      <td>(not set)</td>\n",
       "      <td>desktop</td>\n",
       "      <td>Macintosh</td>\n",
       "      <td>not available in demo dataset</td>\n",
       "      <td>Oakland</td>\n",
       "      <td>Paid Search</td>\n",
       "      <td>1970-01-01 00:00:00.020170211</td>\n",
       "      <td>2017-02-11 18:47:04</td>\n",
       "    </tr>\n",
       "    <tr>\n",
       "      <th>4</th>\n",
       "      <td>4</td>\n",
       "      <td>6.226770e+13</td>\n",
       "      <td>1</td>\n",
       "      <td>20170709</td>\n",
       "      <td>1499645960</td>\n",
       "      <td>1</td>\n",
       "      <td>1</td>\n",
       "      <td>0</td>\n",
       "      <td>0</td>\n",
       "      <td>0</td>\n",
       "      <td>Partners</td>\n",
       "      <td>affiliate</td>\n",
       "      <td>Data Share Promo</td>\n",
       "      <td>desktop</td>\n",
       "      <td>Windows</td>\n",
       "      <td>not available in demo dataset</td>\n",
       "      <td>not available in demo dataset</td>\n",
       "      <td>Affiliates</td>\n",
       "      <td>1970-01-01 00:00:00.020170709</td>\n",
       "      <td>2017-07-10 00:19:20</td>\n",
       "    </tr>\n",
       "  </tbody>\n",
       "</table>\n",
       "</div>"
      ],
      "text/plain": [
       "   Unnamed: 0    Visitor Id  Visit Number      Date  Visit Start Time  \\\n",
       "0           0  2.737660e+13             1  20170211        1486866293   \n",
       "1           1  3.946050e+13             1  20170327        1490629516   \n",
       "2           2  4.086270e+13             1  20170211        1486836571   \n",
       "3           3  4.086270e+13             2  20170211        1486838824   \n",
       "4           4  6.226770e+13             1  20170709        1499645960   \n",
       "\n",
       "   Total Bounces  Total Page Views  Time On Site  Total Revenue  \\\n",
       "0              0                 5            49              0   \n",
       "1              0                 2            99              0   \n",
       "2              0                 2            14              0   \n",
       "3              0                 3            35              0   \n",
       "4              1                 1             0              0   \n",
       "\n",
       "   Total Transactions Traffic Source Source Medium   Source Campaign  \\\n",
       "0                   0       (direct)        (none)         (not set)   \n",
       "1                   0    youtube.com      referral         (not set)   \n",
       "2                   0       (direct)        (none)         (not set)   \n",
       "3                   0       (direct)        (none)         (not set)   \n",
       "4                   0       Partners     affiliate  Data Share Promo   \n",
       "\n",
       "  Device Category         OS            Mobile Device Model  \\\n",
       "0         desktop  Macintosh  not available in demo dataset   \n",
       "1         desktop    Windows  not available in demo dataset   \n",
       "2         desktop  Macintosh  not available in demo dataset   \n",
       "3         desktop  Macintosh  not available in demo dataset   \n",
       "4         desktop    Windows  not available in demo dataset   \n",
       "\n",
       "                            City Channel Grouping  \\\n",
       "0  not available in demo dataset   Organic Search   \n",
       "1  not available in demo dataset           Social   \n",
       "2                        Oakland      Paid Search   \n",
       "3                        Oakland      Paid Search   \n",
       "4  not available in demo dataset       Affiliates   \n",
       "\n",
       "                        DateTime            StartTime  \n",
       "0  1970-01-01 00:00:00.020170211  2017-02-12 02:24:53  \n",
       "1  1970-01-01 00:00:00.020170327  2017-03-27 15:45:16  \n",
       "2  1970-01-01 00:00:00.020170211  2017-02-11 18:09:31  \n",
       "3  1970-01-01 00:00:00.020170211  2017-02-11 18:47:04  \n",
       "4  1970-01-01 00:00:00.020170709  2017-07-10 00:19:20  "
      ]
     },
     "execution_count": 91,
     "metadata": {},
     "output_type": "execute_result"
    }
   ],
   "source": [
    "df.head()"
   ]
  },
  {
   "cell_type": "code",
   "execution_count": 92,
   "metadata": {},
   "outputs": [],
   "source": [
    "from sklearn.model_selection import train_test_split\n",
    "from sklearn.ensemble import RandomForestClassifier"
   ]
  },
  {
   "cell_type": "code",
   "execution_count": 93,
   "metadata": {},
   "outputs": [
    {
     "data": {
      "text/plain": [
       "Index(['Unnamed: 0', 'Visitor Id', 'Visit Number', 'Date', 'Visit Start Time',\n",
       "       'Total Bounces', 'Total Page Views', 'Time On Site', 'Total Revenue',\n",
       "       'Total Transactions', 'Traffic Source', 'Source Medium',\n",
       "       'Source Campaign', 'Device Category', 'OS', 'Mobile Device Model',\n",
       "       'City', 'Channel Grouping', 'DateTime', 'StartTime'],\n",
       "      dtype='object')"
      ]
     },
     "execution_count": 93,
     "metadata": {},
     "output_type": "execute_result"
    }
   ],
   "source": [
    "df.columns"
   ]
  },
  {
   "cell_type": "code",
   "execution_count": 94,
   "metadata": {},
   "outputs": [
    {
     "data": {
      "text/html": [
       "<div>\n",
       "<style scoped>\n",
       "    .dataframe tbody tr th:only-of-type {\n",
       "        vertical-align: middle;\n",
       "    }\n",
       "\n",
       "    .dataframe tbody tr th {\n",
       "        vertical-align: top;\n",
       "    }\n",
       "\n",
       "    .dataframe thead th {\n",
       "        text-align: right;\n",
       "    }\n",
       "</style>\n",
       "<table border=\"1\" class=\"dataframe\">\n",
       "  <thead>\n",
       "    <tr style=\"text-align: right;\">\n",
       "      <th></th>\n",
       "      <th>Unnamed: 0</th>\n",
       "      <th>Visitor Id</th>\n",
       "      <th>Visit Number</th>\n",
       "      <th>Date</th>\n",
       "      <th>Visit Start Time</th>\n",
       "      <th>Total Bounces</th>\n",
       "      <th>Total Page Views</th>\n",
       "      <th>Time On Site</th>\n",
       "      <th>Total Revenue</th>\n",
       "      <th>Total Transactions</th>\n",
       "    </tr>\n",
       "  </thead>\n",
       "  <tbody>\n",
       "    <tr>\n",
       "      <th>Unnamed: 0</th>\n",
       "      <td>1.000000</td>\n",
       "      <td>0.844125</td>\n",
       "      <td>-0.026056</td>\n",
       "      <td>-0.001431</td>\n",
       "      <td>-0.001363</td>\n",
       "      <td>-0.001099</td>\n",
       "      <td>-0.000021</td>\n",
       "      <td>-0.000725</td>\n",
       "      <td>-0.000750</td>\n",
       "      <td>0.000401</td>\n",
       "    </tr>\n",
       "    <tr>\n",
       "      <th>Visitor Id</th>\n",
       "      <td>0.844125</td>\n",
       "      <td>1.000000</td>\n",
       "      <td>-0.018748</td>\n",
       "      <td>-0.001956</td>\n",
       "      <td>-0.001659</td>\n",
       "      <td>-0.001856</td>\n",
       "      <td>0.000097</td>\n",
       "      <td>-0.001147</td>\n",
       "      <td>-0.000092</td>\n",
       "      <td>0.001683</td>\n",
       "    </tr>\n",
       "    <tr>\n",
       "      <th>Visit Number</th>\n",
       "      <td>-0.026056</td>\n",
       "      <td>-0.018748</td>\n",
       "      <td>1.000000</td>\n",
       "      <td>-0.009302</td>\n",
       "      <td>-0.009585</td>\n",
       "      <td>-0.018573</td>\n",
       "      <td>0.045361</td>\n",
       "      <td>0.060164</td>\n",
       "      <td>0.069486</td>\n",
       "      <td>0.026256</td>\n",
       "    </tr>\n",
       "    <tr>\n",
       "      <th>Date</th>\n",
       "      <td>-0.001431</td>\n",
       "      <td>-0.001956</td>\n",
       "      <td>-0.009302</td>\n",
       "      <td>1.000000</td>\n",
       "      <td>0.994922</td>\n",
       "      <td>0.003273</td>\n",
       "      <td>-0.006630</td>\n",
       "      <td>0.011064</td>\n",
       "      <td>0.001309</td>\n",
       "      <td>0.011359</td>\n",
       "    </tr>\n",
       "    <tr>\n",
       "      <th>Visit Start Time</th>\n",
       "      <td>-0.001363</td>\n",
       "      <td>-0.001659</td>\n",
       "      <td>-0.009585</td>\n",
       "      <td>0.994922</td>\n",
       "      <td>1.000000</td>\n",
       "      <td>0.002486</td>\n",
       "      <td>-0.006121</td>\n",
       "      <td>0.011662</td>\n",
       "      <td>0.001298</td>\n",
       "      <td>0.011241</td>\n",
       "    </tr>\n",
       "    <tr>\n",
       "      <th>Total Bounces</th>\n",
       "      <td>-0.001099</td>\n",
       "      <td>-0.001856</td>\n",
       "      <td>-0.018573</td>\n",
       "      <td>0.003273</td>\n",
       "      <td>0.002486</td>\n",
       "      <td>1.000000</td>\n",
       "      <td>-0.432757</td>\n",
       "      <td>-0.372435</td>\n",
       "      <td>-0.020534</td>\n",
       "      <td>-0.104455</td>\n",
       "    </tr>\n",
       "    <tr>\n",
       "      <th>Total Page Views</th>\n",
       "      <td>-0.000021</td>\n",
       "      <td>0.000097</td>\n",
       "      <td>0.045361</td>\n",
       "      <td>-0.006630</td>\n",
       "      <td>-0.006121</td>\n",
       "      <td>-0.432757</td>\n",
       "      <td>1.000000</td>\n",
       "      <td>0.687030</td>\n",
       "      <td>0.114729</td>\n",
       "      <td>0.436109</td>\n",
       "    </tr>\n",
       "    <tr>\n",
       "      <th>Time On Site</th>\n",
       "      <td>-0.000725</td>\n",
       "      <td>-0.001147</td>\n",
       "      <td>0.060164</td>\n",
       "      <td>0.011064</td>\n",
       "      <td>0.011662</td>\n",
       "      <td>-0.372435</td>\n",
       "      <td>0.687030</td>\n",
       "      <td>1.000000</td>\n",
       "      <td>0.074437</td>\n",
       "      <td>0.276055</td>\n",
       "    </tr>\n",
       "    <tr>\n",
       "      <th>Total Revenue</th>\n",
       "      <td>-0.000750</td>\n",
       "      <td>-0.000092</td>\n",
       "      <td>0.069486</td>\n",
       "      <td>0.001309</td>\n",
       "      <td>0.001298</td>\n",
       "      <td>-0.020534</td>\n",
       "      <td>0.114729</td>\n",
       "      <td>0.074437</td>\n",
       "      <td>1.000000</td>\n",
       "      <td>0.204822</td>\n",
       "    </tr>\n",
       "    <tr>\n",
       "      <th>Total Transactions</th>\n",
       "      <td>0.000401</td>\n",
       "      <td>0.001683</td>\n",
       "      <td>0.026256</td>\n",
       "      <td>0.011359</td>\n",
       "      <td>0.011241</td>\n",
       "      <td>-0.104455</td>\n",
       "      <td>0.436109</td>\n",
       "      <td>0.276055</td>\n",
       "      <td>0.204822</td>\n",
       "      <td>1.000000</td>\n",
       "    </tr>\n",
       "  </tbody>\n",
       "</table>\n",
       "</div>"
      ],
      "text/plain": [
       "                    Unnamed: 0  Visitor Id  Visit Number      Date  \\\n",
       "Unnamed: 0            1.000000    0.844125     -0.026056 -0.001431   \n",
       "Visitor Id            0.844125    1.000000     -0.018748 -0.001956   \n",
       "Visit Number         -0.026056   -0.018748      1.000000 -0.009302   \n",
       "Date                 -0.001431   -0.001956     -0.009302  1.000000   \n",
       "Visit Start Time     -0.001363   -0.001659     -0.009585  0.994922   \n",
       "Total Bounces        -0.001099   -0.001856     -0.018573  0.003273   \n",
       "Total Page Views     -0.000021    0.000097      0.045361 -0.006630   \n",
       "Time On Site         -0.000725   -0.001147      0.060164  0.011064   \n",
       "Total Revenue        -0.000750   -0.000092      0.069486  0.001309   \n",
       "Total Transactions    0.000401    0.001683      0.026256  0.011359   \n",
       "\n",
       "                    Visit Start Time  Total Bounces  Total Page Views  \\\n",
       "Unnamed: 0                 -0.001363      -0.001099         -0.000021   \n",
       "Visitor Id                 -0.001659      -0.001856          0.000097   \n",
       "Visit Number               -0.009585      -0.018573          0.045361   \n",
       "Date                        0.994922       0.003273         -0.006630   \n",
       "Visit Start Time            1.000000       0.002486         -0.006121   \n",
       "Total Bounces               0.002486       1.000000         -0.432757   \n",
       "Total Page Views           -0.006121      -0.432757          1.000000   \n",
       "Time On Site                0.011662      -0.372435          0.687030   \n",
       "Total Revenue               0.001298      -0.020534          0.114729   \n",
       "Total Transactions          0.011241      -0.104455          0.436109   \n",
       "\n",
       "                    Time On Site  Total Revenue  Total Transactions  \n",
       "Unnamed: 0             -0.000725      -0.000750            0.000401  \n",
       "Visitor Id             -0.001147      -0.000092            0.001683  \n",
       "Visit Number            0.060164       0.069486            0.026256  \n",
       "Date                    0.011064       0.001309            0.011359  \n",
       "Visit Start Time        0.011662       0.001298            0.011241  \n",
       "Total Bounces          -0.372435      -0.020534           -0.104455  \n",
       "Total Page Views        0.687030       0.114729            0.436109  \n",
       "Time On Site            1.000000       0.074437            0.276055  \n",
       "Total Revenue           0.074437       1.000000            0.204822  \n",
       "Total Transactions      0.276055       0.204822            1.000000  "
      ]
     },
     "execution_count": 94,
     "metadata": {},
     "output_type": "execute_result"
    }
   ],
   "source": [
    "df.corr(method ='pearson')"
   ]
  },
  {
   "cell_type": "code",
   "execution_count": 84,
   "metadata": {},
   "outputs": [],
   "source": [
    "#print(df['Traffic Source'].value_counts()[:10])"
   ]
  },
  {
   "cell_type": "code",
   "execution_count": 85,
   "metadata": {},
   "outputs": [],
   "source": [
    "#def encode(x):\n",
    "    #return 1 if x in list(df['Traffic Source'].value_counts()[:10]) else 0"
   ]
  },
  {
   "cell_type": "code",
   "execution_count": null,
   "metadata": {},
   "outputs": [],
   "source": [
    "train['enc_condition'] = train.SaleCondition.apply(encode)\n",
    "test['enc_condition'] = test.SaleCondition.apply(encode)"
   ]
  },
  {
   "cell_type": "code",
   "execution_count": 98,
   "metadata": {},
   "outputs": [],
   "source": [
    "#df_temp = pd.get_dummies(df,drop_first=True)"
   ]
  },
  {
   "cell_type": "code",
   "execution_count": 99,
   "metadata": {},
   "outputs": [],
   "source": [
    "X_1, y = df[['Visitor Id', 'Visit Number','Total Bounces', 'Total Page Views', 'Time On Site', 'Total Revenue', 'Traffic Source', 'Source Medium',\n",
    "       'Source Campaign', 'Device Category', 'OS', 'Mobile Device Model',\n",
    "       'City', 'Channel Grouping']], df[['Total Transactions']]"
   ]
  },
  {
   "cell_type": "code",
   "execution_count": 100,
   "metadata": {},
   "outputs": [],
   "source": [
    "X = pd.get_dummies(X_1,drop_first=True)"
   ]
  },
  {
   "cell_type": "code",
   "execution_count": 101,
   "metadata": {},
   "outputs": [],
   "source": [
    "X_train, X_test, y_train, y_test = train_test_split(X, y, test_size=0.3, random_state=42)"
   ]
  },
  {
   "cell_type": "code",
   "execution_count": 114,
   "metadata": {},
   "outputs": [
    {
     "data": {
      "text/html": [
       "<div>\n",
       "<style scoped>\n",
       "    .dataframe tbody tr th:only-of-type {\n",
       "        vertical-align: middle;\n",
       "    }\n",
       "\n",
       "    .dataframe tbody tr th {\n",
       "        vertical-align: top;\n",
       "    }\n",
       "\n",
       "    .dataframe thead th {\n",
       "        text-align: right;\n",
       "    }\n",
       "</style>\n",
       "<table border=\"1\" class=\"dataframe\">\n",
       "  <thead>\n",
       "    <tr style=\"text-align: right;\">\n",
       "      <th></th>\n",
       "      <th>Visitor Id</th>\n",
       "      <th>Visit Number</th>\n",
       "      <th>Total Bounces</th>\n",
       "      <th>Total Page Views</th>\n",
       "      <th>Time On Site</th>\n",
       "      <th>Total Revenue</th>\n",
       "      <th>Traffic Source_(not set)</th>\n",
       "      <th>Traffic Source_9to5google.com</th>\n",
       "      <th>Traffic Source_Partners</th>\n",
       "      <th>Traffic Source_ad.doubleclick.net</th>\n",
       "      <th>...</th>\n",
       "      <th>City_Zhudong Township</th>\n",
       "      <th>City_Zurich</th>\n",
       "      <th>City_not available in demo dataset</th>\n",
       "      <th>Channel Grouping_Affiliates</th>\n",
       "      <th>Channel Grouping_Direct</th>\n",
       "      <th>Channel Grouping_Display</th>\n",
       "      <th>Channel Grouping_Organic Search</th>\n",
       "      <th>Channel Grouping_Paid Search</th>\n",
       "      <th>Channel Grouping_Referral</th>\n",
       "      <th>Channel Grouping_Social</th>\n",
       "    </tr>\n",
       "  </thead>\n",
       "  <tbody>\n",
       "    <tr>\n",
       "      <th>144649</th>\n",
       "      <td>3.122180e+18</td>\n",
       "      <td>1</td>\n",
       "      <td>1</td>\n",
       "      <td>1</td>\n",
       "      <td>0</td>\n",
       "      <td>0</td>\n",
       "      <td>0</td>\n",
       "      <td>0</td>\n",
       "      <td>0</td>\n",
       "      <td>0</td>\n",
       "      <td>...</td>\n",
       "      <td>0</td>\n",
       "      <td>0</td>\n",
       "      <td>1</td>\n",
       "      <td>0</td>\n",
       "      <td>1</td>\n",
       "      <td>0</td>\n",
       "      <td>0</td>\n",
       "      <td>0</td>\n",
       "      <td>0</td>\n",
       "      <td>0</td>\n",
       "    </tr>\n",
       "    <tr>\n",
       "      <th>220603</th>\n",
       "      <td>4.746870e+18</td>\n",
       "      <td>1</td>\n",
       "      <td>0</td>\n",
       "      <td>3</td>\n",
       "      <td>67</td>\n",
       "      <td>0</td>\n",
       "      <td>0</td>\n",
       "      <td>0</td>\n",
       "      <td>0</td>\n",
       "      <td>0</td>\n",
       "      <td>...</td>\n",
       "      <td>0</td>\n",
       "      <td>0</td>\n",
       "      <td>1</td>\n",
       "      <td>0</td>\n",
       "      <td>1</td>\n",
       "      <td>0</td>\n",
       "      <td>0</td>\n",
       "      <td>0</td>\n",
       "      <td>0</td>\n",
       "      <td>0</td>\n",
       "    </tr>\n",
       "    <tr>\n",
       "      <th>127111</th>\n",
       "      <td>2.746850e+18</td>\n",
       "      <td>1</td>\n",
       "      <td>0</td>\n",
       "      <td>3</td>\n",
       "      <td>33</td>\n",
       "      <td>0</td>\n",
       "      <td>0</td>\n",
       "      <td>0</td>\n",
       "      <td>0</td>\n",
       "      <td>0</td>\n",
       "      <td>...</td>\n",
       "      <td>0</td>\n",
       "      <td>0</td>\n",
       "      <td>1</td>\n",
       "      <td>0</td>\n",
       "      <td>1</td>\n",
       "      <td>0</td>\n",
       "      <td>0</td>\n",
       "      <td>0</td>\n",
       "      <td>0</td>\n",
       "      <td>0</td>\n",
       "    </tr>\n",
       "    <tr>\n",
       "      <th>8205</th>\n",
       "      <td>1.766010e+17</td>\n",
       "      <td>1</td>\n",
       "      <td>0</td>\n",
       "      <td>2</td>\n",
       "      <td>0</td>\n",
       "      <td>0</td>\n",
       "      <td>0</td>\n",
       "      <td>0</td>\n",
       "      <td>0</td>\n",
       "      <td>0</td>\n",
       "      <td>...</td>\n",
       "      <td>0</td>\n",
       "      <td>0</td>\n",
       "      <td>0</td>\n",
       "      <td>0</td>\n",
       "      <td>0</td>\n",
       "      <td>0</td>\n",
       "      <td>1</td>\n",
       "      <td>0</td>\n",
       "      <td>0</td>\n",
       "      <td>0</td>\n",
       "    </tr>\n",
       "    <tr>\n",
       "      <th>87270</th>\n",
       "      <td>1.887010e+18</td>\n",
       "      <td>2</td>\n",
       "      <td>0</td>\n",
       "      <td>5</td>\n",
       "      <td>85</td>\n",
       "      <td>0</td>\n",
       "      <td>0</td>\n",
       "      <td>0</td>\n",
       "      <td>0</td>\n",
       "      <td>0</td>\n",
       "      <td>...</td>\n",
       "      <td>0</td>\n",
       "      <td>0</td>\n",
       "      <td>1</td>\n",
       "      <td>0</td>\n",
       "      <td>0</td>\n",
       "      <td>0</td>\n",
       "      <td>1</td>\n",
       "      <td>0</td>\n",
       "      <td>0</td>\n",
       "      <td>0</td>\n",
       "    </tr>\n",
       "    <tr>\n",
       "      <th>...</th>\n",
       "      <td>...</td>\n",
       "      <td>...</td>\n",
       "      <td>...</td>\n",
       "      <td>...</td>\n",
       "      <td>...</td>\n",
       "      <td>...</td>\n",
       "      <td>...</td>\n",
       "      <td>...</td>\n",
       "      <td>...</td>\n",
       "      <td>...</td>\n",
       "      <td>...</td>\n",
       "      <td>...</td>\n",
       "      <td>...</td>\n",
       "      <td>...</td>\n",
       "      <td>...</td>\n",
       "      <td>...</td>\n",
       "      <td>...</td>\n",
       "      <td>...</td>\n",
       "      <td>...</td>\n",
       "      <td>...</td>\n",
       "      <td>...</td>\n",
       "    </tr>\n",
       "    <tr>\n",
       "      <th>259178</th>\n",
       "      <td>5.576720e+18</td>\n",
       "      <td>1</td>\n",
       "      <td>0</td>\n",
       "      <td>2</td>\n",
       "      <td>63</td>\n",
       "      <td>0</td>\n",
       "      <td>0</td>\n",
       "      <td>0</td>\n",
       "      <td>0</td>\n",
       "      <td>0</td>\n",
       "      <td>...</td>\n",
       "      <td>0</td>\n",
       "      <td>0</td>\n",
       "      <td>1</td>\n",
       "      <td>0</td>\n",
       "      <td>0</td>\n",
       "      <td>0</td>\n",
       "      <td>1</td>\n",
       "      <td>0</td>\n",
       "      <td>0</td>\n",
       "      <td>0</td>\n",
       "    </tr>\n",
       "    <tr>\n",
       "      <th>365838</th>\n",
       "      <td>7.868420e+18</td>\n",
       "      <td>7</td>\n",
       "      <td>1</td>\n",
       "      <td>1</td>\n",
       "      <td>0</td>\n",
       "      <td>0</td>\n",
       "      <td>0</td>\n",
       "      <td>0</td>\n",
       "      <td>0</td>\n",
       "      <td>0</td>\n",
       "      <td>...</td>\n",
       "      <td>0</td>\n",
       "      <td>0</td>\n",
       "      <td>0</td>\n",
       "      <td>0</td>\n",
       "      <td>0</td>\n",
       "      <td>0</td>\n",
       "      <td>0</td>\n",
       "      <td>0</td>\n",
       "      <td>1</td>\n",
       "      <td>0</td>\n",
       "    </tr>\n",
       "    <tr>\n",
       "      <th>131932</th>\n",
       "      <td>2.852170e+18</td>\n",
       "      <td>1</td>\n",
       "      <td>1</td>\n",
       "      <td>1</td>\n",
       "      <td>0</td>\n",
       "      <td>0</td>\n",
       "      <td>0</td>\n",
       "      <td>0</td>\n",
       "      <td>0</td>\n",
       "      <td>0</td>\n",
       "      <td>...</td>\n",
       "      <td>0</td>\n",
       "      <td>0</td>\n",
       "      <td>1</td>\n",
       "      <td>0</td>\n",
       "      <td>1</td>\n",
       "      <td>0</td>\n",
       "      <td>0</td>\n",
       "      <td>0</td>\n",
       "      <td>0</td>\n",
       "      <td>0</td>\n",
       "    </tr>\n",
       "    <tr>\n",
       "      <th>146867</th>\n",
       "      <td>3.168020e+18</td>\n",
       "      <td>3</td>\n",
       "      <td>0</td>\n",
       "      <td>2</td>\n",
       "      <td>5</td>\n",
       "      <td>0</td>\n",
       "      <td>0</td>\n",
       "      <td>0</td>\n",
       "      <td>0</td>\n",
       "      <td>0</td>\n",
       "      <td>...</td>\n",
       "      <td>0</td>\n",
       "      <td>0</td>\n",
       "      <td>1</td>\n",
       "      <td>0</td>\n",
       "      <td>1</td>\n",
       "      <td>0</td>\n",
       "      <td>0</td>\n",
       "      <td>0</td>\n",
       "      <td>0</td>\n",
       "      <td>0</td>\n",
       "    </tr>\n",
       "    <tr>\n",
       "      <th>121958</th>\n",
       "      <td>2.637930e+18</td>\n",
       "      <td>1</td>\n",
       "      <td>1</td>\n",
       "      <td>1</td>\n",
       "      <td>0</td>\n",
       "      <td>0</td>\n",
       "      <td>0</td>\n",
       "      <td>0</td>\n",
       "      <td>0</td>\n",
       "      <td>0</td>\n",
       "      <td>...</td>\n",
       "      <td>0</td>\n",
       "      <td>0</td>\n",
       "      <td>0</td>\n",
       "      <td>0</td>\n",
       "      <td>1</td>\n",
       "      <td>0</td>\n",
       "      <td>0</td>\n",
       "      <td>0</td>\n",
       "      <td>0</td>\n",
       "      <td>0</td>\n",
       "    </tr>\n",
       "  </tbody>\n",
       "</table>\n",
       "<p>325292 rows × 701 columns</p>\n",
       "</div>"
      ],
      "text/plain": [
       "          Visitor Id  Visit Number  Total Bounces  Total Page Views  \\\n",
       "144649  3.122180e+18             1              1                 1   \n",
       "220603  4.746870e+18             1              0                 3   \n",
       "127111  2.746850e+18             1              0                 3   \n",
       "8205    1.766010e+17             1              0                 2   \n",
       "87270   1.887010e+18             2              0                 5   \n",
       "...              ...           ...            ...               ...   \n",
       "259178  5.576720e+18             1              0                 2   \n",
       "365838  7.868420e+18             7              1                 1   \n",
       "131932  2.852170e+18             1              1                 1   \n",
       "146867  3.168020e+18             3              0                 2   \n",
       "121958  2.637930e+18             1              1                 1   \n",
       "\n",
       "        Time On Site  Total Revenue  Traffic Source_(not set)  \\\n",
       "144649             0              0                         0   \n",
       "220603            67              0                         0   \n",
       "127111            33              0                         0   \n",
       "8205               0              0                         0   \n",
       "87270             85              0                         0   \n",
       "...              ...            ...                       ...   \n",
       "259178            63              0                         0   \n",
       "365838             0              0                         0   \n",
       "131932             0              0                         0   \n",
       "146867             5              0                         0   \n",
       "121958             0              0                         0   \n",
       "\n",
       "        Traffic Source_9to5google.com  Traffic Source_Partners  \\\n",
       "144649                              0                        0   \n",
       "220603                              0                        0   \n",
       "127111                              0                        0   \n",
       "8205                                0                        0   \n",
       "87270                               0                        0   \n",
       "...                               ...                      ...   \n",
       "259178                              0                        0   \n",
       "365838                              0                        0   \n",
       "131932                              0                        0   \n",
       "146867                              0                        0   \n",
       "121958                              0                        0   \n",
       "\n",
       "        Traffic Source_ad.doubleclick.net  ...  City_Zhudong Township  \\\n",
       "144649                                  0  ...                      0   \n",
       "220603                                  0  ...                      0   \n",
       "127111                                  0  ...                      0   \n",
       "8205                                    0  ...                      0   \n",
       "87270                                   0  ...                      0   \n",
       "...                                   ...  ...                    ...   \n",
       "259178                                  0  ...                      0   \n",
       "365838                                  0  ...                      0   \n",
       "131932                                  0  ...                      0   \n",
       "146867                                  0  ...                      0   \n",
       "121958                                  0  ...                      0   \n",
       "\n",
       "        City_Zurich  City_not available in demo dataset  \\\n",
       "144649            0                                   1   \n",
       "220603            0                                   1   \n",
       "127111            0                                   1   \n",
       "8205              0                                   0   \n",
       "87270             0                                   1   \n",
       "...             ...                                 ...   \n",
       "259178            0                                   1   \n",
       "365838            0                                   0   \n",
       "131932            0                                   1   \n",
       "146867            0                                   1   \n",
       "121958            0                                   0   \n",
       "\n",
       "        Channel Grouping_Affiliates  Channel Grouping_Direct  \\\n",
       "144649                            0                        1   \n",
       "220603                            0                        1   \n",
       "127111                            0                        1   \n",
       "8205                              0                        0   \n",
       "87270                             0                        0   \n",
       "...                             ...                      ...   \n",
       "259178                            0                        0   \n",
       "365838                            0                        0   \n",
       "131932                            0                        1   \n",
       "146867                            0                        1   \n",
       "121958                            0                        1   \n",
       "\n",
       "        Channel Grouping_Display  Channel Grouping_Organic Search  \\\n",
       "144649                         0                                0   \n",
       "220603                         0                                0   \n",
       "127111                         0                                0   \n",
       "8205                           0                                1   \n",
       "87270                          0                                1   \n",
       "...                          ...                              ...   \n",
       "259178                         0                                1   \n",
       "365838                         0                                0   \n",
       "131932                         0                                0   \n",
       "146867                         0                                0   \n",
       "121958                         0                                0   \n",
       "\n",
       "        Channel Grouping_Paid Search  Channel Grouping_Referral  \\\n",
       "144649                             0                          0   \n",
       "220603                             0                          0   \n",
       "127111                             0                          0   \n",
       "8205                               0                          0   \n",
       "87270                              0                          0   \n",
       "...                              ...                        ...   \n",
       "259178                             0                          0   \n",
       "365838                             0                          1   \n",
       "131932                             0                          0   \n",
       "146867                             0                          0   \n",
       "121958                             0                          0   \n",
       "\n",
       "        Channel Grouping_Social  \n",
       "144649                        0  \n",
       "220603                        0  \n",
       "127111                        0  \n",
       "8205                          0  \n",
       "87270                         0  \n",
       "...                         ...  \n",
       "259178                        0  \n",
       "365838                        0  \n",
       "131932                        0  \n",
       "146867                        0  \n",
       "121958                        0  \n",
       "\n",
       "[325292 rows x 701 columns]"
      ]
     },
     "execution_count": 114,
     "metadata": {},
     "output_type": "execute_result"
    }
   ],
   "source": [
    "X_train"
   ]
  },
  {
   "cell_type": "code",
   "execution_count": 102,
   "metadata": {},
   "outputs": [],
   "source": [
    "rf = RandomForestClassifier(n_estimators=400, random_state=11)"
   ]
  },
  {
   "cell_type": "code",
   "execution_count": 103,
   "metadata": {},
   "outputs": [
    {
     "name": "stderr",
     "output_type": "stream",
     "text": [
      "C:\\Users\\Ayush\\Anaconda_new\\lib\\site-packages\\ipykernel_launcher.py:1: DataConversionWarning: A column-vector y was passed when a 1d array was expected. Please change the shape of y to (n_samples,), for example using ravel().\n",
      "  \"\"\"Entry point for launching an IPython kernel.\n"
     ]
    },
    {
     "data": {
      "text/plain": [
       "RandomForestClassifier(bootstrap=True, ccp_alpha=0.0, class_weight=None,\n",
       "                       criterion='gini', max_depth=None, max_features='auto',\n",
       "                       max_leaf_nodes=None, max_samples=None,\n",
       "                       min_impurity_decrease=0.0, min_impurity_split=None,\n",
       "                       min_samples_leaf=1, min_samples_split=2,\n",
       "                       min_weight_fraction_leaf=0.0, n_estimators=400,\n",
       "                       n_jobs=None, oob_score=False, random_state=11, verbose=0,\n",
       "                       warm_start=False)"
      ]
     },
     "execution_count": 103,
     "metadata": {},
     "output_type": "execute_result"
    }
   ],
   "source": [
    "rf.fit(X_train, y_train)"
   ]
  },
  {
   "cell_type": "code",
   "execution_count": 123,
   "metadata": {},
   "outputs": [],
   "source": [
    "y_predict = rf.predict(X_test)\n",
    "y_predict = pd.Series(y_predict)\n",
    "y_predict = y_predict.to_frame()"
   ]
  },
  {
   "cell_type": "code",
   "execution_count": 132,
   "metadata": {},
   "outputs": [],
   "source": [
    "y_predict.to_csv('Downloads/sample_user_prediction_data', index=False)"
   ]
  },
  {
   "cell_type": "code",
   "execution_count": 137,
   "metadata": {},
   "outputs": [],
   "source": [
    "y_predict = pd.read_csv('Downloads/sample_user_prediction_data.csv')"
   ]
  },
  {
   "cell_type": "code",
   "execution_count": 138,
   "metadata": {},
   "outputs": [],
   "source": [
    "y_predict.drop(columns=y_predict.columns[0], axis=1, inplace=True)"
   ]
  },
  {
   "cell_type": "code",
   "execution_count": 143,
   "metadata": {},
   "outputs": [],
   "source": [
    "y_predict.rename(columns={'0':'Predicted'}, inplace=True)"
   ]
  },
  {
   "cell_type": "code",
   "execution_count": 147,
   "metadata": {},
   "outputs": [],
   "source": [
    "import plotly.express as px"
   ]
  },
  {
   "cell_type": "code",
   "execution_count": 146,
   "metadata": {},
   "outputs": [
    {
     "name": "stdout",
     "output_type": "stream",
     "text": [
      "Collecting plotly\n",
      "  Downloading plotly-5.11.0-py2.py3-none-any.whl (15.3 MB)\n",
      "Collecting tenacity>=6.2.0\n",
      "  Downloading tenacity-8.1.0-py3-none-any.whl (23 kB)\n",
      "Installing collected packages: tenacity, plotly\n",
      "Successfully installed plotly-5.11.0 tenacity-8.1.0\n",
      "Note: you may need to restart the kernel to use updated packages.\n"
     ]
    }
   ],
   "source": [
    "pip install plotly"
   ]
  },
  {
   "cell_type": "code",
   "execution_count": 150,
   "metadata": {},
   "outputs": [
    {
     "data": {
      "application/vnd.plotly.v1+json": {
       "config": {
        "plotlyServerURL": "https://plot.ly"
       },
       "data": [
        {
         "domain": {
          "x": [
           0,
           1
          ],
          "y": [
           0,
           1
          ]
         },
         "hole": 0.7,
         "hovertemplate": "label=%{label}<br>value=%{value}<extra></extra>",
         "labels": [
          0,
          1,
          7,
          2
         ],
         "legendgroup": "",
         "name": "",
         "showlegend": true,
         "type": "pie",
         "values": [
          137487,
          1923,
          1,
          1
         ]
        }
       ],
       "layout": {
        "legend": {
         "tracegroupgap": 0
        },
        "template": {
         "data": {
          "bar": [
           {
            "error_x": {
             "color": "#2a3f5f"
            },
            "error_y": {
             "color": "#2a3f5f"
            },
            "marker": {
             "line": {
              "color": "#E5ECF6",
              "width": 0.5
             },
             "pattern": {
              "fillmode": "overlay",
              "size": 10,
              "solidity": 0.2
             }
            },
            "type": "bar"
           }
          ],
          "barpolar": [
           {
            "marker": {
             "line": {
              "color": "#E5ECF6",
              "width": 0.5
             },
             "pattern": {
              "fillmode": "overlay",
              "size": 10,
              "solidity": 0.2
             }
            },
            "type": "barpolar"
           }
          ],
          "carpet": [
           {
            "aaxis": {
             "endlinecolor": "#2a3f5f",
             "gridcolor": "white",
             "linecolor": "white",
             "minorgridcolor": "white",
             "startlinecolor": "#2a3f5f"
            },
            "baxis": {
             "endlinecolor": "#2a3f5f",
             "gridcolor": "white",
             "linecolor": "white",
             "minorgridcolor": "white",
             "startlinecolor": "#2a3f5f"
            },
            "type": "carpet"
           }
          ],
          "choropleth": [
           {
            "colorbar": {
             "outlinewidth": 0,
             "ticks": ""
            },
            "type": "choropleth"
           }
          ],
          "contour": [
           {
            "colorbar": {
             "outlinewidth": 0,
             "ticks": ""
            },
            "colorscale": [
             [
              0,
              "#0d0887"
             ],
             [
              0.1111111111111111,
              "#46039f"
             ],
             [
              0.2222222222222222,
              "#7201a8"
             ],
             [
              0.3333333333333333,
              "#9c179e"
             ],
             [
              0.4444444444444444,
              "#bd3786"
             ],
             [
              0.5555555555555556,
              "#d8576b"
             ],
             [
              0.6666666666666666,
              "#ed7953"
             ],
             [
              0.7777777777777778,
              "#fb9f3a"
             ],
             [
              0.8888888888888888,
              "#fdca26"
             ],
             [
              1,
              "#f0f921"
             ]
            ],
            "type": "contour"
           }
          ],
          "contourcarpet": [
           {
            "colorbar": {
             "outlinewidth": 0,
             "ticks": ""
            },
            "type": "contourcarpet"
           }
          ],
          "heatmap": [
           {
            "colorbar": {
             "outlinewidth": 0,
             "ticks": ""
            },
            "colorscale": [
             [
              0,
              "#0d0887"
             ],
             [
              0.1111111111111111,
              "#46039f"
             ],
             [
              0.2222222222222222,
              "#7201a8"
             ],
             [
              0.3333333333333333,
              "#9c179e"
             ],
             [
              0.4444444444444444,
              "#bd3786"
             ],
             [
              0.5555555555555556,
              "#d8576b"
             ],
             [
              0.6666666666666666,
              "#ed7953"
             ],
             [
              0.7777777777777778,
              "#fb9f3a"
             ],
             [
              0.8888888888888888,
              "#fdca26"
             ],
             [
              1,
              "#f0f921"
             ]
            ],
            "type": "heatmap"
           }
          ],
          "heatmapgl": [
           {
            "colorbar": {
             "outlinewidth": 0,
             "ticks": ""
            },
            "colorscale": [
             [
              0,
              "#0d0887"
             ],
             [
              0.1111111111111111,
              "#46039f"
             ],
             [
              0.2222222222222222,
              "#7201a8"
             ],
             [
              0.3333333333333333,
              "#9c179e"
             ],
             [
              0.4444444444444444,
              "#bd3786"
             ],
             [
              0.5555555555555556,
              "#d8576b"
             ],
             [
              0.6666666666666666,
              "#ed7953"
             ],
             [
              0.7777777777777778,
              "#fb9f3a"
             ],
             [
              0.8888888888888888,
              "#fdca26"
             ],
             [
              1,
              "#f0f921"
             ]
            ],
            "type": "heatmapgl"
           }
          ],
          "histogram": [
           {
            "marker": {
             "pattern": {
              "fillmode": "overlay",
              "size": 10,
              "solidity": 0.2
             }
            },
            "type": "histogram"
           }
          ],
          "histogram2d": [
           {
            "colorbar": {
             "outlinewidth": 0,
             "ticks": ""
            },
            "colorscale": [
             [
              0,
              "#0d0887"
             ],
             [
              0.1111111111111111,
              "#46039f"
             ],
             [
              0.2222222222222222,
              "#7201a8"
             ],
             [
              0.3333333333333333,
              "#9c179e"
             ],
             [
              0.4444444444444444,
              "#bd3786"
             ],
             [
              0.5555555555555556,
              "#d8576b"
             ],
             [
              0.6666666666666666,
              "#ed7953"
             ],
             [
              0.7777777777777778,
              "#fb9f3a"
             ],
             [
              0.8888888888888888,
              "#fdca26"
             ],
             [
              1,
              "#f0f921"
             ]
            ],
            "type": "histogram2d"
           }
          ],
          "histogram2dcontour": [
           {
            "colorbar": {
             "outlinewidth": 0,
             "ticks": ""
            },
            "colorscale": [
             [
              0,
              "#0d0887"
             ],
             [
              0.1111111111111111,
              "#46039f"
             ],
             [
              0.2222222222222222,
              "#7201a8"
             ],
             [
              0.3333333333333333,
              "#9c179e"
             ],
             [
              0.4444444444444444,
              "#bd3786"
             ],
             [
              0.5555555555555556,
              "#d8576b"
             ],
             [
              0.6666666666666666,
              "#ed7953"
             ],
             [
              0.7777777777777778,
              "#fb9f3a"
             ],
             [
              0.8888888888888888,
              "#fdca26"
             ],
             [
              1,
              "#f0f921"
             ]
            ],
            "type": "histogram2dcontour"
           }
          ],
          "mesh3d": [
           {
            "colorbar": {
             "outlinewidth": 0,
             "ticks": ""
            },
            "type": "mesh3d"
           }
          ],
          "parcoords": [
           {
            "line": {
             "colorbar": {
              "outlinewidth": 0,
              "ticks": ""
             }
            },
            "type": "parcoords"
           }
          ],
          "pie": [
           {
            "automargin": true,
            "type": "pie"
           }
          ],
          "scatter": [
           {
            "fillpattern": {
             "fillmode": "overlay",
             "size": 10,
             "solidity": 0.2
            },
            "type": "scatter"
           }
          ],
          "scatter3d": [
           {
            "line": {
             "colorbar": {
              "outlinewidth": 0,
              "ticks": ""
             }
            },
            "marker": {
             "colorbar": {
              "outlinewidth": 0,
              "ticks": ""
             }
            },
            "type": "scatter3d"
           }
          ],
          "scattercarpet": [
           {
            "marker": {
             "colorbar": {
              "outlinewidth": 0,
              "ticks": ""
             }
            },
            "type": "scattercarpet"
           }
          ],
          "scattergeo": [
           {
            "marker": {
             "colorbar": {
              "outlinewidth": 0,
              "ticks": ""
             }
            },
            "type": "scattergeo"
           }
          ],
          "scattergl": [
           {
            "marker": {
             "colorbar": {
              "outlinewidth": 0,
              "ticks": ""
             }
            },
            "type": "scattergl"
           }
          ],
          "scattermapbox": [
           {
            "marker": {
             "colorbar": {
              "outlinewidth": 0,
              "ticks": ""
             }
            },
            "type": "scattermapbox"
           }
          ],
          "scatterpolar": [
           {
            "marker": {
             "colorbar": {
              "outlinewidth": 0,
              "ticks": ""
             }
            },
            "type": "scatterpolar"
           }
          ],
          "scatterpolargl": [
           {
            "marker": {
             "colorbar": {
              "outlinewidth": 0,
              "ticks": ""
             }
            },
            "type": "scatterpolargl"
           }
          ],
          "scatterternary": [
           {
            "marker": {
             "colorbar": {
              "outlinewidth": 0,
              "ticks": ""
             }
            },
            "type": "scatterternary"
           }
          ],
          "surface": [
           {
            "colorbar": {
             "outlinewidth": 0,
             "ticks": ""
            },
            "colorscale": [
             [
              0,
              "#0d0887"
             ],
             [
              0.1111111111111111,
              "#46039f"
             ],
             [
              0.2222222222222222,
              "#7201a8"
             ],
             [
              0.3333333333333333,
              "#9c179e"
             ],
             [
              0.4444444444444444,
              "#bd3786"
             ],
             [
              0.5555555555555556,
              "#d8576b"
             ],
             [
              0.6666666666666666,
              "#ed7953"
             ],
             [
              0.7777777777777778,
              "#fb9f3a"
             ],
             [
              0.8888888888888888,
              "#fdca26"
             ],
             [
              1,
              "#f0f921"
             ]
            ],
            "type": "surface"
           }
          ],
          "table": [
           {
            "cells": {
             "fill": {
              "color": "#EBF0F8"
             },
             "line": {
              "color": "white"
             }
            },
            "header": {
             "fill": {
              "color": "#C8D4E3"
             },
             "line": {
              "color": "white"
             }
            },
            "type": "table"
           }
          ]
         },
         "layout": {
          "annotationdefaults": {
           "arrowcolor": "#2a3f5f",
           "arrowhead": 0,
           "arrowwidth": 1
          },
          "autotypenumbers": "strict",
          "coloraxis": {
           "colorbar": {
            "outlinewidth": 0,
            "ticks": ""
           }
          },
          "colorscale": {
           "diverging": [
            [
             0,
             "#8e0152"
            ],
            [
             0.1,
             "#c51b7d"
            ],
            [
             0.2,
             "#de77ae"
            ],
            [
             0.3,
             "#f1b6da"
            ],
            [
             0.4,
             "#fde0ef"
            ],
            [
             0.5,
             "#f7f7f7"
            ],
            [
             0.6,
             "#e6f5d0"
            ],
            [
             0.7,
             "#b8e186"
            ],
            [
             0.8,
             "#7fbc41"
            ],
            [
             0.9,
             "#4d9221"
            ],
            [
             1,
             "#276419"
            ]
           ],
           "sequential": [
            [
             0,
             "#0d0887"
            ],
            [
             0.1111111111111111,
             "#46039f"
            ],
            [
             0.2222222222222222,
             "#7201a8"
            ],
            [
             0.3333333333333333,
             "#9c179e"
            ],
            [
             0.4444444444444444,
             "#bd3786"
            ],
            [
             0.5555555555555556,
             "#d8576b"
            ],
            [
             0.6666666666666666,
             "#ed7953"
            ],
            [
             0.7777777777777778,
             "#fb9f3a"
            ],
            [
             0.8888888888888888,
             "#fdca26"
            ],
            [
             1,
             "#f0f921"
            ]
           ],
           "sequentialminus": [
            [
             0,
             "#0d0887"
            ],
            [
             0.1111111111111111,
             "#46039f"
            ],
            [
             0.2222222222222222,
             "#7201a8"
            ],
            [
             0.3333333333333333,
             "#9c179e"
            ],
            [
             0.4444444444444444,
             "#bd3786"
            ],
            [
             0.5555555555555556,
             "#d8576b"
            ],
            [
             0.6666666666666666,
             "#ed7953"
            ],
            [
             0.7777777777777778,
             "#fb9f3a"
            ],
            [
             0.8888888888888888,
             "#fdca26"
            ],
            [
             1,
             "#f0f921"
            ]
           ]
          },
          "colorway": [
           "#636efa",
           "#EF553B",
           "#00cc96",
           "#ab63fa",
           "#FFA15A",
           "#19d3f3",
           "#FF6692",
           "#B6E880",
           "#FF97FF",
           "#FECB52"
          ],
          "font": {
           "color": "#2a3f5f"
          },
          "geo": {
           "bgcolor": "white",
           "lakecolor": "white",
           "landcolor": "#E5ECF6",
           "showlakes": true,
           "showland": true,
           "subunitcolor": "white"
          },
          "hoverlabel": {
           "align": "left"
          },
          "hovermode": "closest",
          "mapbox": {
           "style": "light"
          },
          "paper_bgcolor": "white",
          "plot_bgcolor": "#E5ECF6",
          "polar": {
           "angularaxis": {
            "gridcolor": "white",
            "linecolor": "white",
            "ticks": ""
           },
           "bgcolor": "#E5ECF6",
           "radialaxis": {
            "gridcolor": "white",
            "linecolor": "white",
            "ticks": ""
           }
          },
          "scene": {
           "xaxis": {
            "backgroundcolor": "#E5ECF6",
            "gridcolor": "white",
            "gridwidth": 2,
            "linecolor": "white",
            "showbackground": true,
            "ticks": "",
            "zerolinecolor": "white"
           },
           "yaxis": {
            "backgroundcolor": "#E5ECF6",
            "gridcolor": "white",
            "gridwidth": 2,
            "linecolor": "white",
            "showbackground": true,
            "ticks": "",
            "zerolinecolor": "white"
           },
           "zaxis": {
            "backgroundcolor": "#E5ECF6",
            "gridcolor": "white",
            "gridwidth": 2,
            "linecolor": "white",
            "showbackground": true,
            "ticks": "",
            "zerolinecolor": "white"
           }
          },
          "shapedefaults": {
           "line": {
            "color": "#2a3f5f"
           }
          },
          "ternary": {
           "aaxis": {
            "gridcolor": "white",
            "linecolor": "white",
            "ticks": ""
           },
           "baxis": {
            "gridcolor": "white",
            "linecolor": "white",
            "ticks": ""
           },
           "bgcolor": "#E5ECF6",
           "caxis": {
            "gridcolor": "white",
            "linecolor": "white",
            "ticks": ""
           }
          },
          "title": {
           "x": 0.05
          },
          "xaxis": {
           "automargin": true,
           "gridcolor": "white",
           "linecolor": "white",
           "ticks": "",
           "title": {
            "standoff": 15
           },
           "zerolinecolor": "white",
           "zerolinewidth": 2
          },
          "yaxis": {
           "automargin": true,
           "gridcolor": "white",
           "linecolor": "white",
           "ticks": "",
           "title": {
            "standoff": 15
           },
           "zerolinecolor": "white",
           "zerolinewidth": 2
          }
         }
        },
        "title": {
         "text": "Tumour Stages of Patients"
        }
       }
      },
      "text/html": [
       "<div>                            <div id=\"68b6420a-6bdd-413f-b93c-f999f918055b\" class=\"plotly-graph-div\" style=\"height:525px; width:100%;\"></div>            <script type=\"text/javascript\">                require([\"plotly\"], function(Plotly) {                    window.PLOTLYENV=window.PLOTLYENV || {};                                    if (document.getElementById(\"68b6420a-6bdd-413f-b93c-f999f918055b\")) {                    Plotly.newPlot(                        \"68b6420a-6bdd-413f-b93c-f999f918055b\",                        [{\"domain\":{\"x\":[0.0,1.0],\"y\":[0.0,1.0]},\"hole\":0.7,\"hovertemplate\":\"label=%{label}<br>value=%{value}<extra></extra>\",\"labels\":[0,1,7,2],\"legendgroup\":\"\",\"name\":\"\",\"showlegend\":true,\"values\":[137487,1923,1,1],\"type\":\"pie\"}],                        {\"template\":{\"data\":{\"histogram2dcontour\":[{\"type\":\"histogram2dcontour\",\"colorbar\":{\"outlinewidth\":0,\"ticks\":\"\"},\"colorscale\":[[0.0,\"#0d0887\"],[0.1111111111111111,\"#46039f\"],[0.2222222222222222,\"#7201a8\"],[0.3333333333333333,\"#9c179e\"],[0.4444444444444444,\"#bd3786\"],[0.5555555555555556,\"#d8576b\"],[0.6666666666666666,\"#ed7953\"],[0.7777777777777778,\"#fb9f3a\"],[0.8888888888888888,\"#fdca26\"],[1.0,\"#f0f921\"]]}],\"choropleth\":[{\"type\":\"choropleth\",\"colorbar\":{\"outlinewidth\":0,\"ticks\":\"\"}}],\"histogram2d\":[{\"type\":\"histogram2d\",\"colorbar\":{\"outlinewidth\":0,\"ticks\":\"\"},\"colorscale\":[[0.0,\"#0d0887\"],[0.1111111111111111,\"#46039f\"],[0.2222222222222222,\"#7201a8\"],[0.3333333333333333,\"#9c179e\"],[0.4444444444444444,\"#bd3786\"],[0.5555555555555556,\"#d8576b\"],[0.6666666666666666,\"#ed7953\"],[0.7777777777777778,\"#fb9f3a\"],[0.8888888888888888,\"#fdca26\"],[1.0,\"#f0f921\"]]}],\"heatmap\":[{\"type\":\"heatmap\",\"colorbar\":{\"outlinewidth\":0,\"ticks\":\"\"},\"colorscale\":[[0.0,\"#0d0887\"],[0.1111111111111111,\"#46039f\"],[0.2222222222222222,\"#7201a8\"],[0.3333333333333333,\"#9c179e\"],[0.4444444444444444,\"#bd3786\"],[0.5555555555555556,\"#d8576b\"],[0.6666666666666666,\"#ed7953\"],[0.7777777777777778,\"#fb9f3a\"],[0.8888888888888888,\"#fdca26\"],[1.0,\"#f0f921\"]]}],\"heatmapgl\":[{\"type\":\"heatmapgl\",\"colorbar\":{\"outlinewidth\":0,\"ticks\":\"\"},\"colorscale\":[[0.0,\"#0d0887\"],[0.1111111111111111,\"#46039f\"],[0.2222222222222222,\"#7201a8\"],[0.3333333333333333,\"#9c179e\"],[0.4444444444444444,\"#bd3786\"],[0.5555555555555556,\"#d8576b\"],[0.6666666666666666,\"#ed7953\"],[0.7777777777777778,\"#fb9f3a\"],[0.8888888888888888,\"#fdca26\"],[1.0,\"#f0f921\"]]}],\"contourcarpet\":[{\"type\":\"contourcarpet\",\"colorbar\":{\"outlinewidth\":0,\"ticks\":\"\"}}],\"contour\":[{\"type\":\"contour\",\"colorbar\":{\"outlinewidth\":0,\"ticks\":\"\"},\"colorscale\":[[0.0,\"#0d0887\"],[0.1111111111111111,\"#46039f\"],[0.2222222222222222,\"#7201a8\"],[0.3333333333333333,\"#9c179e\"],[0.4444444444444444,\"#bd3786\"],[0.5555555555555556,\"#d8576b\"],[0.6666666666666666,\"#ed7953\"],[0.7777777777777778,\"#fb9f3a\"],[0.8888888888888888,\"#fdca26\"],[1.0,\"#f0f921\"]]}],\"surface\":[{\"type\":\"surface\",\"colorbar\":{\"outlinewidth\":0,\"ticks\":\"\"},\"colorscale\":[[0.0,\"#0d0887\"],[0.1111111111111111,\"#46039f\"],[0.2222222222222222,\"#7201a8\"],[0.3333333333333333,\"#9c179e\"],[0.4444444444444444,\"#bd3786\"],[0.5555555555555556,\"#d8576b\"],[0.6666666666666666,\"#ed7953\"],[0.7777777777777778,\"#fb9f3a\"],[0.8888888888888888,\"#fdca26\"],[1.0,\"#f0f921\"]]}],\"mesh3d\":[{\"type\":\"mesh3d\",\"colorbar\":{\"outlinewidth\":0,\"ticks\":\"\"}}],\"scatter\":[{\"fillpattern\":{\"fillmode\":\"overlay\",\"size\":10,\"solidity\":0.2},\"type\":\"scatter\"}],\"parcoords\":[{\"type\":\"parcoords\",\"line\":{\"colorbar\":{\"outlinewidth\":0,\"ticks\":\"\"}}}],\"scatterpolargl\":[{\"type\":\"scatterpolargl\",\"marker\":{\"colorbar\":{\"outlinewidth\":0,\"ticks\":\"\"}}}],\"bar\":[{\"error_x\":{\"color\":\"#2a3f5f\"},\"error_y\":{\"color\":\"#2a3f5f\"},\"marker\":{\"line\":{\"color\":\"#E5ECF6\",\"width\":0.5},\"pattern\":{\"fillmode\":\"overlay\",\"size\":10,\"solidity\":0.2}},\"type\":\"bar\"}],\"scattergeo\":[{\"type\":\"scattergeo\",\"marker\":{\"colorbar\":{\"outlinewidth\":0,\"ticks\":\"\"}}}],\"scatterpolar\":[{\"type\":\"scatterpolar\",\"marker\":{\"colorbar\":{\"outlinewidth\":0,\"ticks\":\"\"}}}],\"histogram\":[{\"marker\":{\"pattern\":{\"fillmode\":\"overlay\",\"size\":10,\"solidity\":0.2}},\"type\":\"histogram\"}],\"scattergl\":[{\"type\":\"scattergl\",\"marker\":{\"colorbar\":{\"outlinewidth\":0,\"ticks\":\"\"}}}],\"scatter3d\":[{\"type\":\"scatter3d\",\"line\":{\"colorbar\":{\"outlinewidth\":0,\"ticks\":\"\"}},\"marker\":{\"colorbar\":{\"outlinewidth\":0,\"ticks\":\"\"}}}],\"scattermapbox\":[{\"type\":\"scattermapbox\",\"marker\":{\"colorbar\":{\"outlinewidth\":0,\"ticks\":\"\"}}}],\"scatterternary\":[{\"type\":\"scatterternary\",\"marker\":{\"colorbar\":{\"outlinewidth\":0,\"ticks\":\"\"}}}],\"scattercarpet\":[{\"type\":\"scattercarpet\",\"marker\":{\"colorbar\":{\"outlinewidth\":0,\"ticks\":\"\"}}}],\"carpet\":[{\"aaxis\":{\"endlinecolor\":\"#2a3f5f\",\"gridcolor\":\"white\",\"linecolor\":\"white\",\"minorgridcolor\":\"white\",\"startlinecolor\":\"#2a3f5f\"},\"baxis\":{\"endlinecolor\":\"#2a3f5f\",\"gridcolor\":\"white\",\"linecolor\":\"white\",\"minorgridcolor\":\"white\",\"startlinecolor\":\"#2a3f5f\"},\"type\":\"carpet\"}],\"table\":[{\"cells\":{\"fill\":{\"color\":\"#EBF0F8\"},\"line\":{\"color\":\"white\"}},\"header\":{\"fill\":{\"color\":\"#C8D4E3\"},\"line\":{\"color\":\"white\"}},\"type\":\"table\"}],\"barpolar\":[{\"marker\":{\"line\":{\"color\":\"#E5ECF6\",\"width\":0.5},\"pattern\":{\"fillmode\":\"overlay\",\"size\":10,\"solidity\":0.2}},\"type\":\"barpolar\"}],\"pie\":[{\"automargin\":true,\"type\":\"pie\"}]},\"layout\":{\"autotypenumbers\":\"strict\",\"colorway\":[\"#636efa\",\"#EF553B\",\"#00cc96\",\"#ab63fa\",\"#FFA15A\",\"#19d3f3\",\"#FF6692\",\"#B6E880\",\"#FF97FF\",\"#FECB52\"],\"font\":{\"color\":\"#2a3f5f\"},\"hovermode\":\"closest\",\"hoverlabel\":{\"align\":\"left\"},\"paper_bgcolor\":\"white\",\"plot_bgcolor\":\"#E5ECF6\",\"polar\":{\"bgcolor\":\"#E5ECF6\",\"angularaxis\":{\"gridcolor\":\"white\",\"linecolor\":\"white\",\"ticks\":\"\"},\"radialaxis\":{\"gridcolor\":\"white\",\"linecolor\":\"white\",\"ticks\":\"\"}},\"ternary\":{\"bgcolor\":\"#E5ECF6\",\"aaxis\":{\"gridcolor\":\"white\",\"linecolor\":\"white\",\"ticks\":\"\"},\"baxis\":{\"gridcolor\":\"white\",\"linecolor\":\"white\",\"ticks\":\"\"},\"caxis\":{\"gridcolor\":\"white\",\"linecolor\":\"white\",\"ticks\":\"\"}},\"coloraxis\":{\"colorbar\":{\"outlinewidth\":0,\"ticks\":\"\"}},\"colorscale\":{\"sequential\":[[0.0,\"#0d0887\"],[0.1111111111111111,\"#46039f\"],[0.2222222222222222,\"#7201a8\"],[0.3333333333333333,\"#9c179e\"],[0.4444444444444444,\"#bd3786\"],[0.5555555555555556,\"#d8576b\"],[0.6666666666666666,\"#ed7953\"],[0.7777777777777778,\"#fb9f3a\"],[0.8888888888888888,\"#fdca26\"],[1.0,\"#f0f921\"]],\"sequentialminus\":[[0.0,\"#0d0887\"],[0.1111111111111111,\"#46039f\"],[0.2222222222222222,\"#7201a8\"],[0.3333333333333333,\"#9c179e\"],[0.4444444444444444,\"#bd3786\"],[0.5555555555555556,\"#d8576b\"],[0.6666666666666666,\"#ed7953\"],[0.7777777777777778,\"#fb9f3a\"],[0.8888888888888888,\"#fdca26\"],[1.0,\"#f0f921\"]],\"diverging\":[[0,\"#8e0152\"],[0.1,\"#c51b7d\"],[0.2,\"#de77ae\"],[0.3,\"#f1b6da\"],[0.4,\"#fde0ef\"],[0.5,\"#f7f7f7\"],[0.6,\"#e6f5d0\"],[0.7,\"#b8e186\"],[0.8,\"#7fbc41\"],[0.9,\"#4d9221\"],[1,\"#276419\"]]},\"xaxis\":{\"gridcolor\":\"white\",\"linecolor\":\"white\",\"ticks\":\"\",\"title\":{\"standoff\":15},\"zerolinecolor\":\"white\",\"automargin\":true,\"zerolinewidth\":2},\"yaxis\":{\"gridcolor\":\"white\",\"linecolor\":\"white\",\"ticks\":\"\",\"title\":{\"standoff\":15},\"zerolinecolor\":\"white\",\"automargin\":true,\"zerolinewidth\":2},\"scene\":{\"xaxis\":{\"backgroundcolor\":\"#E5ECF6\",\"gridcolor\":\"white\",\"linecolor\":\"white\",\"showbackground\":true,\"ticks\":\"\",\"zerolinecolor\":\"white\",\"gridwidth\":2},\"yaxis\":{\"backgroundcolor\":\"#E5ECF6\",\"gridcolor\":\"white\",\"linecolor\":\"white\",\"showbackground\":true,\"ticks\":\"\",\"zerolinecolor\":\"white\",\"gridwidth\":2},\"zaxis\":{\"backgroundcolor\":\"#E5ECF6\",\"gridcolor\":\"white\",\"linecolor\":\"white\",\"showbackground\":true,\"ticks\":\"\",\"zerolinecolor\":\"white\",\"gridwidth\":2}},\"shapedefaults\":{\"line\":{\"color\":\"#2a3f5f\"}},\"annotationdefaults\":{\"arrowcolor\":\"#2a3f5f\",\"arrowhead\":0,\"arrowwidth\":1},\"geo\":{\"bgcolor\":\"white\",\"landcolor\":\"#E5ECF6\",\"subunitcolor\":\"white\",\"showland\":true,\"showlakes\":true,\"lakecolor\":\"white\"},\"title\":{\"x\":0.05},\"mapbox\":{\"style\":\"light\"}}},\"legend\":{\"tracegroupgap\":0},\"title\":{\"text\":\"Tumour Stages of Patients\"}},                        {\"responsive\": true}                    ).then(function(){\n",
       "                            \n",
       "var gd = document.getElementById('68b6420a-6bdd-413f-b93c-f999f918055b');\n",
       "var x = new MutationObserver(function (mutations, observer) {{\n",
       "        var display = window.getComputedStyle(gd).display;\n",
       "        if (!display || display === 'none') {{\n",
       "            console.log([gd, 'removed!']);\n",
       "            Plotly.purge(gd);\n",
       "            observer.disconnect();\n",
       "        }}\n",
       "}});\n",
       "\n",
       "// Listen for the removal of the full notebook cells\n",
       "var notebookContainer = gd.closest('#notebook-container');\n",
       "if (notebookContainer) {{\n",
       "    x.observe(notebookContainer, {childList: true});\n",
       "}}\n",
       "\n",
       "// Listen for the clearing of the current output cell\n",
       "var outputEl = gd.closest('.output');\n",
       "if (outputEl) {{\n",
       "    x.observe(outputEl, {childList: true});\n",
       "}}\n",
       "\n",
       "                        })                };                });            </script>        </div>"
      ]
     },
     "metadata": {},
     "output_type": "display_data"
    }
   ],
   "source": [
    "stage = y_predict[\"Predicted\"].value_counts()\n",
    "transactions = stage.index\n",
    "quantity = stage.values\n",
    "\n",
    "figure = px.pie(y_predict, \n",
    "             values=quantity, \n",
    "             names=transactions,hole = 0.7, \n",
    "             title=\"Tumour Stages of Patients\")\n",
    "figure.show()"
   ]
  },
  {
   "cell_type": "code",
   "execution_count": null,
   "metadata": {},
   "outputs": [],
   "source": []
  },
  {
   "cell_type": "code",
   "execution_count": 106,
   "metadata": {},
   "outputs": [],
   "source": [
    "from sklearn.metrics import f1_score"
   ]
  },
  {
   "cell_type": "code",
   "execution_count": 107,
   "metadata": {},
   "outputs": [
    {
     "data": {
      "text/plain": [
       "0.9994177264901057"
      ]
     },
     "execution_count": 107,
     "metadata": {},
     "output_type": "execute_result"
    }
   ],
   "source": [
    "f1_score(y_test, y_predict,  average='weighted')"
   ]
  },
  {
   "cell_type": "code",
   "execution_count": 151,
   "metadata": {},
   "outputs": [],
   "source": [
    "from sklearn.metrics import precision_score"
   ]
  },
  {
   "cell_type": "code",
   "execution_count": 152,
   "metadata": {},
   "outputs": [
    {
     "name": "stdout",
     "output_type": "stream",
     "text": [
      "Precision: 0.999\n"
     ]
    },
    {
     "name": "stderr",
     "output_type": "stream",
     "text": [
      "C:\\Users\\Ayush\\Anaconda_new\\lib\\site-packages\\sklearn\\metrics\\_classification.py:1272: UndefinedMetricWarning:\n",
      "\n",
      "Precision is ill-defined and being set to 0.0 in labels with no predicted samples. Use `zero_division` parameter to control this behavior.\n",
      "\n"
     ]
    }
   ],
   "source": [
    "print('Precision: %.3f' % precision_score(y_test, y_predict,average='weighted'))"
   ]
  },
  {
   "cell_type": "code",
   "execution_count": 47,
   "metadata": {},
   "outputs": [],
   "source": []
  },
  {
   "cell_type": "code",
   "execution_count": null,
   "metadata": {},
   "outputs": [],
   "source": []
  }
 ],
 "metadata": {
  "kernelspec": {
   "display_name": "Python 3",
   "language": "python",
   "name": "python3"
  },
  "language_info": {
   "codemirror_mode": {
    "name": "ipython",
    "version": 3
   },
   "file_extension": ".py",
   "mimetype": "text/x-python",
   "name": "python",
   "nbconvert_exporter": "python",
   "pygments_lexer": "ipython3",
   "version": "3.7.7"
  }
 },
 "nbformat": 4,
 "nbformat_minor": 4
}
